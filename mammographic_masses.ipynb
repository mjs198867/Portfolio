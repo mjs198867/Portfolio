{
 "cells": [
  {
   "cell_type": "markdown",
   "metadata": {},
   "source": [
    "# Introduction\n",
    "\n",
    "Relevant Information: Mammography is the most effective method for breast cancer screening available today. However, the low positive predictive value of breast biopsy resulting from mammogram interpretation leads to approximately 70% unnecessary biopsies with benign outcomes. To reduce the high number of unnecessary breast biopsies, several computer-aided diagnosis (CAD) systems have been proposed in the last years. These systems help physicians in their decision to perform a breast biopsy on a suspicious lesion seen in a mammogram or to perform a short term follow-up examination instead. This data set can be used to predict the severity (benign or malignant) of a mammographic mass lesion from BI-RADS attributes and the patient's age. It contains a BI-RADS assessment, the patient's age and three BI-RADS attributes together with the ground truth (the severity field) for 516 benign and 445 malignant masses that have been identified on full field digital mammograms collected at the Institute of Radiology of the University Erlangen-Nuremberg between 2003 and 2006. Each instance has an associated BI-RADS assessment ranging from 1 (definitely benign) to 5 (highly suggestive of malignancy) assigned in a double-review process by physicians. Assuming that all cases with BI-RADS assessments greater or equal a given value (varying from 0 to 6), are malignant and the other cases benign, sensitivities and associated specificities can be calculated. These can be an indication of how well a CAD system performs compared to the radiologists."
   ]
  },
  {
   "cell_type": "markdown",
   "metadata": {},
   "source": [
    "# Goals and Objectives:\n",
    "    \n",
    "    Finding the best Models to predict the severity (benign or malignant) of a mammographic mass lesion.\n",
    "    make a prediction based on different machine learning models ranging from:\n",
    "        - KNN (K Nearest Neighbors)\n",
    "        - SVM\n",
    "        - Decision Tree\n",
    "    Using more sophisticated techniques to improve the result, like:\n",
    "        - ensemble techniques like Random Forest\n",
    "        - Bagging\n",
    "        - Boosting (Adaboost)\n",
    "        - Voting\n",
    "\n",
    "        \n",
    "    "
   ]
  },
  {
   "cell_type": "markdown",
   "metadata": {},
   "source": [
    "# Data"
   ]
  },
  {
   "cell_type": "markdown",
   "metadata": {},
   "source": [
    "1. Title: Mammographic Mass Data\n",
    "\n",
    "\n",
    "2. Sources:\n",
    "   Original owners of database:\n",
    "        Prof. Dr. Rüdiger Schulz-Wendtland\n",
    "        Institute of Radiology, Gynaecological Radiology, University Erlangen-Nuremberg\n",
    "        Universitätsstraße 21-23\n",
    "        91054 Erlangen, Germany\n",
    "        \n",
    "3. Attribute Information:\n",
    "\n",
    "   1. BI-RADS assessment: 1 to 5 (ordinal)  \n",
    "   2. Age: patient's age in years (integer)\n",
    "   3. Shape: mass shape: round=1 oval=2 lobular=3 irregular=4 (nominal)\n",
    "   4. Margin: mass margin: circumscribed=1 microlobulated=2 obscured=3 ill-defined=4 spiculated=5 (nominal)\n",
    "   5. Density: mass density high=1 iso=2 low=3 fat-containing=4 (ordinal)\n",
    "   6. Severity: benign=0 or malignant=1 (binominal)\n",
    "   \n",
    "   \n",
    "4. Severity is our target variable.\n"
   ]
  },
  {
   "cell_type": "markdown",
   "metadata": {},
   "source": [
    "# Improrting python libraries"
   ]
  },
  {
   "cell_type": "code",
   "execution_count": 3,
   "metadata": {
    "collapsed": false
   },
   "outputs": [],
   "source": [
    "import numpy as np\n",
    "import pandas as pd\n",
    "import matplotlib.pyplot as plt\n",
    "import seaborn as sns"
   ]
  },
  {
   "cell_type": "code",
   "execution_count": 4,
   "metadata": {
    "collapsed": true
   },
   "outputs": [],
   "source": [
    "%matplotlib inline"
   ]
  },
  {
   "cell_type": "markdown",
   "metadata": {},
   "source": [
    "Loading the dataset, shown in the table below:\n",
    "\n",
    "There are missing values shown by '?' in dataset."
   ]
  },
  {
   "cell_type": "code",
   "execution_count": 5,
   "metadata": {
    "collapsed": false
   },
   "outputs": [
    {
     "data": {
      "text/html": [
       "<div>\n",
       "<table border=\"1\" class=\"dataframe\">\n",
       "  <thead>\n",
       "    <tr style=\"text-align: right;\">\n",
       "      <th></th>\n",
       "      <th>BI-RADS</th>\n",
       "      <th>age</th>\n",
       "      <th>shape</th>\n",
       "      <th>margin</th>\n",
       "      <th>density</th>\n",
       "      <th>severity</th>\n",
       "    </tr>\n",
       "  </thead>\n",
       "  <tbody>\n",
       "    <tr>\n",
       "      <th>0</th>\n",
       "      <td>5</td>\n",
       "      <td>67</td>\n",
       "      <td>3</td>\n",
       "      <td>5</td>\n",
       "      <td>3</td>\n",
       "      <td>1</td>\n",
       "    </tr>\n",
       "    <tr>\n",
       "      <th>1</th>\n",
       "      <td>4</td>\n",
       "      <td>43</td>\n",
       "      <td>1</td>\n",
       "      <td>1</td>\n",
       "      <td>?</td>\n",
       "      <td>1</td>\n",
       "    </tr>\n",
       "    <tr>\n",
       "      <th>2</th>\n",
       "      <td>5</td>\n",
       "      <td>58</td>\n",
       "      <td>4</td>\n",
       "      <td>5</td>\n",
       "      <td>3</td>\n",
       "      <td>1</td>\n",
       "    </tr>\n",
       "    <tr>\n",
       "      <th>3</th>\n",
       "      <td>4</td>\n",
       "      <td>28</td>\n",
       "      <td>1</td>\n",
       "      <td>1</td>\n",
       "      <td>3</td>\n",
       "      <td>0</td>\n",
       "    </tr>\n",
       "    <tr>\n",
       "      <th>4</th>\n",
       "      <td>5</td>\n",
       "      <td>74</td>\n",
       "      <td>1</td>\n",
       "      <td>5</td>\n",
       "      <td>?</td>\n",
       "      <td>1</td>\n",
       "    </tr>\n",
       "    <tr>\n",
       "      <th>5</th>\n",
       "      <td>4</td>\n",
       "      <td>65</td>\n",
       "      <td>1</td>\n",
       "      <td>?</td>\n",
       "      <td>3</td>\n",
       "      <td>0</td>\n",
       "    </tr>\n",
       "    <tr>\n",
       "      <th>6</th>\n",
       "      <td>4</td>\n",
       "      <td>70</td>\n",
       "      <td>?</td>\n",
       "      <td>?</td>\n",
       "      <td>3</td>\n",
       "      <td>0</td>\n",
       "    </tr>\n",
       "    <tr>\n",
       "      <th>7</th>\n",
       "      <td>5</td>\n",
       "      <td>42</td>\n",
       "      <td>1</td>\n",
       "      <td>?</td>\n",
       "      <td>3</td>\n",
       "      <td>0</td>\n",
       "    </tr>\n",
       "    <tr>\n",
       "      <th>8</th>\n",
       "      <td>5</td>\n",
       "      <td>57</td>\n",
       "      <td>1</td>\n",
       "      <td>5</td>\n",
       "      <td>3</td>\n",
       "      <td>1</td>\n",
       "    </tr>\n",
       "    <tr>\n",
       "      <th>9</th>\n",
       "      <td>5</td>\n",
       "      <td>60</td>\n",
       "      <td>?</td>\n",
       "      <td>5</td>\n",
       "      <td>1</td>\n",
       "      <td>1</td>\n",
       "    </tr>\n",
       "  </tbody>\n",
       "</table>\n",
       "</div>"
      ],
      "text/plain": [
       "  BI-RADS age shape margin density  severity\n",
       "0       5  67     3      5       3         1\n",
       "1       4  43     1      1       ?         1\n",
       "2       5  58     4      5       3         1\n",
       "3       4  28     1      1       3         0\n",
       "4       5  74     1      5       ?         1\n",
       "5       4  65     1      ?       3         0\n",
       "6       4  70     ?      ?       3         0\n",
       "7       5  42     1      ?       3         0\n",
       "8       5  57     1      5       3         1\n",
       "9       5  60     ?      5       1         1"
      ]
     },
     "execution_count": 5,
     "metadata": {},
     "output_type": "execute_result"
    }
   ],
   "source": [
    "df_first = pd.read_csv('mammographic_masses.data.txt', header=None, \n",
    "                 names=['BI-RADS','age','shape','margin','density','severity'])\n",
    "df_first.head(10)"
   ]
  },
  {
   "cell_type": "code",
   "execution_count": 8,
   "metadata": {
    "collapsed": false
   },
   "outputs": [
    {
     "data": {
      "text/plain": [
       "(961, 6)"
      ]
     },
     "execution_count": 8,
     "metadata": {},
     "output_type": "execute_result"
    }
   ],
   "source": [
    "## our data set has 961 rows and 6 columns\n",
    "df_first.shape "
   ]
  },
  {
   "cell_type": "markdown",
   "metadata": {},
   "source": [
    "\n",
    "\n",
    "Data Cleaning and Description:\n",
    "\n",
    "load data using pandas library. Dataset's missing values are represented by '?'. Using na_values = '?' to replace ? by NaN.\n"
   ]
  },
  {
   "cell_type": "code",
   "execution_count": 9,
   "metadata": {
    "collapsed": false,
    "scrolled": true
   },
   "outputs": [
    {
     "data": {
      "text/html": [
       "<div>\n",
       "<table border=\"1\" class=\"dataframe\">\n",
       "  <thead>\n",
       "    <tr style=\"text-align: right;\">\n",
       "      <th></th>\n",
       "      <th>BI-RADS</th>\n",
       "      <th>age</th>\n",
       "      <th>shape</th>\n",
       "      <th>margin</th>\n",
       "      <th>density</th>\n",
       "      <th>severity</th>\n",
       "    </tr>\n",
       "  </thead>\n",
       "  <tbody>\n",
       "    <tr>\n",
       "      <th>0</th>\n",
       "      <td>5</td>\n",
       "      <td>67</td>\n",
       "      <td>3</td>\n",
       "      <td>5</td>\n",
       "      <td>3</td>\n",
       "      <td>1</td>\n",
       "    </tr>\n",
       "    <tr>\n",
       "      <th>1</th>\n",
       "      <td>4</td>\n",
       "      <td>43</td>\n",
       "      <td>1</td>\n",
       "      <td>1</td>\n",
       "      <td>?</td>\n",
       "      <td>1</td>\n",
       "    </tr>\n",
       "    <tr>\n",
       "      <th>2</th>\n",
       "      <td>5</td>\n",
       "      <td>58</td>\n",
       "      <td>4</td>\n",
       "      <td>5</td>\n",
       "      <td>3</td>\n",
       "      <td>1</td>\n",
       "    </tr>\n",
       "    <tr>\n",
       "      <th>3</th>\n",
       "      <td>4</td>\n",
       "      <td>28</td>\n",
       "      <td>1</td>\n",
       "      <td>1</td>\n",
       "      <td>3</td>\n",
       "      <td>0</td>\n",
       "    </tr>\n",
       "    <tr>\n",
       "      <th>4</th>\n",
       "      <td>5</td>\n",
       "      <td>74</td>\n",
       "      <td>1</td>\n",
       "      <td>5</td>\n",
       "      <td>?</td>\n",
       "      <td>1</td>\n",
       "    </tr>\n",
       "    <tr>\n",
       "      <th>5</th>\n",
       "      <td>4</td>\n",
       "      <td>65</td>\n",
       "      <td>1</td>\n",
       "      <td>?</td>\n",
       "      <td>3</td>\n",
       "      <td>0</td>\n",
       "    </tr>\n",
       "    <tr>\n",
       "      <th>6</th>\n",
       "      <td>4</td>\n",
       "      <td>70</td>\n",
       "      <td>?</td>\n",
       "      <td>?</td>\n",
       "      <td>3</td>\n",
       "      <td>0</td>\n",
       "    </tr>\n",
       "    <tr>\n",
       "      <th>7</th>\n",
       "      <td>5</td>\n",
       "      <td>42</td>\n",
       "      <td>1</td>\n",
       "      <td>?</td>\n",
       "      <td>3</td>\n",
       "      <td>0</td>\n",
       "    </tr>\n",
       "    <tr>\n",
       "      <th>8</th>\n",
       "      <td>5</td>\n",
       "      <td>57</td>\n",
       "      <td>1</td>\n",
       "      <td>5</td>\n",
       "      <td>3</td>\n",
       "      <td>1</td>\n",
       "    </tr>\n",
       "    <tr>\n",
       "      <th>9</th>\n",
       "      <td>5</td>\n",
       "      <td>60</td>\n",
       "      <td>?</td>\n",
       "      <td>5</td>\n",
       "      <td>1</td>\n",
       "      <td>1</td>\n",
       "    </tr>\n",
       "  </tbody>\n",
       "</table>\n",
       "</div>"
      ],
      "text/plain": [
       "  BI-RADS age shape margin density  severity\n",
       "0       5  67     3      5       3         1\n",
       "1       4  43     1      1       ?         1\n",
       "2       5  58     4      5       3         1\n",
       "3       4  28     1      1       3         0\n",
       "4       5  74     1      5       ?         1\n",
       "5       4  65     1      ?       3         0\n",
       "6       4  70     ?      ?       3         0\n",
       "7       5  42     1      ?       3         0\n",
       "8       5  57     1      5       3         1\n",
       "9       5  60     ?      5       1         1"
      ]
     },
     "execution_count": 9,
     "metadata": {},
     "output_type": "execute_result"
    }
   ],
   "source": [
    "df = pd.read_csv('mammographic_masses.data.txt', header=None, \n",
    "                 names=['BI-RADS','age','shape','margin','density','severity'], na_values='?' )\n",
    "\n",
    "\n",
    "df_first.head(10)"
   ]
  },
  {
   "cell_type": "code",
   "execution_count": 10,
   "metadata": {
    "collapsed": false
   },
   "outputs": [
    {
     "name": "stdout",
     "output_type": "stream",
     "text": [
      "[4.0     547\n",
      "5.0     345\n",
      "3.0      36\n",
      "2.0      14\n",
      "6.0      11\n",
      "0.0       5\n",
      "55.0      1\n",
      "Name: BI-RADS, dtype: int64, 4.0    400\n",
      "1.0    224\n",
      "2.0    211\n",
      "3.0     95\n",
      "Name: shape, dtype: int64, 1.0    357\n",
      "4.0    280\n",
      "5.0    136\n",
      "3.0    116\n",
      "2.0     24\n",
      "Name: margin, dtype: int64, 3.0    798\n",
      "2.0     59\n",
      "1.0     16\n",
      "4.0     12\n",
      "Name: density, dtype: int64, 0    516\n",
      "1    445\n",
      "Name: severity, dtype: int64]\n"
     ]
    }
   ],
   "source": [
    "##  checking the frequency of every columns, for example as it can be seen, 4 is happen to be in BI-RADS for 547.\n",
    "##  it shows with ?(null variables) can be replaced by mode instead of mean or median. due to the high iterarion of some numbers.\n",
    "\n",
    "print([df[col].value_counts() for col in df.columns.drop('age')])"
   ]
  },
  {
   "cell_type": "markdown",
   "metadata": {},
   "source": [
    "checking for total number of null observation in each column.  "
   ]
  },
  {
   "cell_type": "code",
   "execution_count": 11,
   "metadata": {
    "collapsed": false
   },
   "outputs": [
    {
     "name": "stdout",
     "output_type": "stream",
     "text": [
      "BI-RADS : 2\n",
      "age : 5\n",
      "shape : 31\n",
      "margin : 48\n",
      "density : 76\n",
      "severity : 0\n"
     ]
    }
   ],
   "source": [
    "col_null = [df[col].isnull().values.sum() for col in df.columns]\n",
    "for i in range(0,6):\n",
    "    print(df.columns[i],':',col_null[i])"
   ]
  },
  {
   "cell_type": "markdown",
   "metadata": {},
   "source": [
    "Using  fillna( ) function to replace mode of every column instead of corresponding null observations."
   ]
  },
  {
   "cell_type": "code",
   "execution_count": 14,
   "metadata": {
    "collapsed": false
   },
   "outputs": [
    {
     "data": {
      "text/html": [
       "<div>\n",
       "<table border=\"1\" class=\"dataframe\">\n",
       "  <thead>\n",
       "    <tr style=\"text-align: right;\">\n",
       "      <th></th>\n",
       "      <th>BI-RADS</th>\n",
       "      <th>age</th>\n",
       "      <th>shape</th>\n",
       "      <th>margin</th>\n",
       "      <th>density</th>\n",
       "      <th>severity</th>\n",
       "    </tr>\n",
       "  </thead>\n",
       "  <tbody>\n",
       "    <tr>\n",
       "      <th>0</th>\n",
       "      <td>5.0</td>\n",
       "      <td>67.0</td>\n",
       "      <td>3.0</td>\n",
       "      <td>5.0</td>\n",
       "      <td>3.0</td>\n",
       "      <td>1</td>\n",
       "    </tr>\n",
       "    <tr>\n",
       "      <th>1</th>\n",
       "      <td>4.0</td>\n",
       "      <td>43.0</td>\n",
       "      <td>1.0</td>\n",
       "      <td>1.0</td>\n",
       "      <td>3.0</td>\n",
       "      <td>1</td>\n",
       "    </tr>\n",
       "    <tr>\n",
       "      <th>2</th>\n",
       "      <td>5.0</td>\n",
       "      <td>58.0</td>\n",
       "      <td>4.0</td>\n",
       "      <td>5.0</td>\n",
       "      <td>3.0</td>\n",
       "      <td>1</td>\n",
       "    </tr>\n",
       "    <tr>\n",
       "      <th>3</th>\n",
       "      <td>4.0</td>\n",
       "      <td>28.0</td>\n",
       "      <td>1.0</td>\n",
       "      <td>1.0</td>\n",
       "      <td>3.0</td>\n",
       "      <td>0</td>\n",
       "    </tr>\n",
       "    <tr>\n",
       "      <th>4</th>\n",
       "      <td>5.0</td>\n",
       "      <td>74.0</td>\n",
       "      <td>1.0</td>\n",
       "      <td>5.0</td>\n",
       "      <td>3.0</td>\n",
       "      <td>1</td>\n",
       "    </tr>\n",
       "  </tbody>\n",
       "</table>\n",
       "</div>"
      ],
      "text/plain": [
       "   BI-RADS   age  shape  margin  density  severity\n",
       "0      5.0  67.0    3.0     5.0      3.0         1\n",
       "1      4.0  43.0    1.0     1.0      3.0         1\n",
       "2      5.0  58.0    4.0     5.0      3.0         1\n",
       "3      4.0  28.0    1.0     1.0      3.0         0\n",
       "4      5.0  74.0    1.0     5.0      3.0         1"
      ]
     },
     "execution_count": 14,
     "metadata": {},
     "output_type": "execute_result"
    }
   ],
   "source": [
    "for col in df.columns:\n",
    "    \n",
    "    df[col].fillna(df[col].mode()[0], inplace=True)\n",
    "df.head()"
   ]
  },
  {
   "cell_type": "code",
   "execution_count": 17,
   "metadata": {
    "collapsed": false
   },
   "outputs": [
    {
     "data": {
      "text/plain": [
       "0"
      ]
     },
     "execution_count": 17,
     "metadata": {},
     "output_type": "execute_result"
    }
   ],
   "source": [
    "## Check if there is any null observation in data set\n",
    "df[col].isnull().values.sum()"
   ]
  },
  {
   "cell_type": "code",
   "execution_count": 21,
   "metadata": {
    "collapsed": false
   },
   "outputs": [
    {
     "data": {
      "text/html": [
       "<div>\n",
       "<table border=\"1\" class=\"dataframe\">\n",
       "  <thead>\n",
       "    <tr style=\"text-align: right;\">\n",
       "      <th></th>\n",
       "      <th>BI-RADS</th>\n",
       "      <th>age</th>\n",
       "      <th>shape</th>\n",
       "      <th>margin</th>\n",
       "      <th>density</th>\n",
       "      <th>severity</th>\n",
       "    </tr>\n",
       "  </thead>\n",
       "  <tbody>\n",
       "    <tr>\n",
       "      <th>0</th>\n",
       "      <td>5.0</td>\n",
       "      <td>67.0</td>\n",
       "      <td>3.0</td>\n",
       "      <td>5.0</td>\n",
       "      <td>3.0</td>\n",
       "      <td>1</td>\n",
       "    </tr>\n",
       "    <tr>\n",
       "      <th>1</th>\n",
       "      <td>4.0</td>\n",
       "      <td>43.0</td>\n",
       "      <td>1.0</td>\n",
       "      <td>1.0</td>\n",
       "      <td>3.0</td>\n",
       "      <td>1</td>\n",
       "    </tr>\n",
       "    <tr>\n",
       "      <th>2</th>\n",
       "      <td>5.0</td>\n",
       "      <td>58.0</td>\n",
       "      <td>4.0</td>\n",
       "      <td>5.0</td>\n",
       "      <td>3.0</td>\n",
       "      <td>1</td>\n",
       "    </tr>\n",
       "    <tr>\n",
       "      <th>12</th>\n",
       "      <td>4.0</td>\n",
       "      <td>64.0</td>\n",
       "      <td>1.0</td>\n",
       "      <td>1.0</td>\n",
       "      <td>3.0</td>\n",
       "      <td>0</td>\n",
       "    </tr>\n",
       "    <tr>\n",
       "      <th>15</th>\n",
       "      <td>4.0</td>\n",
       "      <td>54.0</td>\n",
       "      <td>1.0</td>\n",
       "      <td>1.0</td>\n",
       "      <td>3.0</td>\n",
       "      <td>0</td>\n",
       "    </tr>\n",
       "    <tr>\n",
       "      <th>17</th>\n",
       "      <td>4.0</td>\n",
       "      <td>59.0</td>\n",
       "      <td>2.0</td>\n",
       "      <td>1.0</td>\n",
       "      <td>3.0</td>\n",
       "      <td>1</td>\n",
       "    </tr>\n",
       "    <tr>\n",
       "      <th>19</th>\n",
       "      <td>4.0</td>\n",
       "      <td>40.0</td>\n",
       "      <td>1.0</td>\n",
       "      <td>1.0</td>\n",
       "      <td>3.0</td>\n",
       "      <td>0</td>\n",
       "    </tr>\n",
       "    <tr>\n",
       "      <th>22</th>\n",
       "      <td>4.0</td>\n",
       "      <td>43.0</td>\n",
       "      <td>1.0</td>\n",
       "      <td>1.0</td>\n",
       "      <td>3.0</td>\n",
       "      <td>0</td>\n",
       "    </tr>\n",
       "    <tr>\n",
       "      <th>23</th>\n",
       "      <td>5.0</td>\n",
       "      <td>42.0</td>\n",
       "      <td>4.0</td>\n",
       "      <td>4.0</td>\n",
       "      <td>3.0</td>\n",
       "      <td>1</td>\n",
       "    </tr>\n",
       "    <tr>\n",
       "      <th>25</th>\n",
       "      <td>5.0</td>\n",
       "      <td>75.0</td>\n",
       "      <td>4.0</td>\n",
       "      <td>5.0</td>\n",
       "      <td>3.0</td>\n",
       "      <td>1</td>\n",
       "    </tr>\n",
       "    <tr>\n",
       "      <th>31</th>\n",
       "      <td>5.0</td>\n",
       "      <td>54.0</td>\n",
       "      <td>4.0</td>\n",
       "      <td>4.0</td>\n",
       "      <td>3.0</td>\n",
       "      <td>1</td>\n",
       "    </tr>\n",
       "    <tr>\n",
       "      <th>36</th>\n",
       "      <td>4.0</td>\n",
       "      <td>60.0</td>\n",
       "      <td>2.0</td>\n",
       "      <td>1.0</td>\n",
       "      <td>3.0</td>\n",
       "      <td>0</td>\n",
       "    </tr>\n",
       "    <tr>\n",
       "      <th>40</th>\n",
       "      <td>4.0</td>\n",
       "      <td>59.0</td>\n",
       "      <td>2.0</td>\n",
       "      <td>1.0</td>\n",
       "      <td>3.0</td>\n",
       "      <td>0</td>\n",
       "    </tr>\n",
       "    <tr>\n",
       "      <th>42</th>\n",
       "      <td>4.0</td>\n",
       "      <td>50.0</td>\n",
       "      <td>1.0</td>\n",
       "      <td>1.0</td>\n",
       "      <td>3.0</td>\n",
       "      <td>0</td>\n",
       "    </tr>\n",
       "    <tr>\n",
       "      <th>46</th>\n",
       "      <td>5.0</td>\n",
       "      <td>64.0</td>\n",
       "      <td>4.0</td>\n",
       "      <td>5.0</td>\n",
       "      <td>3.0</td>\n",
       "      <td>1</td>\n",
       "    </tr>\n",
       "    <tr>\n",
       "      <th>47</th>\n",
       "      <td>4.0</td>\n",
       "      <td>23.0</td>\n",
       "      <td>1.0</td>\n",
       "      <td>1.0</td>\n",
       "      <td>3.0</td>\n",
       "      <td>0</td>\n",
       "    </tr>\n",
       "    <tr>\n",
       "      <th>49</th>\n",
       "      <td>5.0</td>\n",
       "      <td>67.0</td>\n",
       "      <td>4.0</td>\n",
       "      <td>5.0</td>\n",
       "      <td>3.0</td>\n",
       "      <td>1</td>\n",
       "    </tr>\n",
       "    <tr>\n",
       "      <th>52</th>\n",
       "      <td>4.0</td>\n",
       "      <td>23.0</td>\n",
       "      <td>1.0</td>\n",
       "      <td>1.0</td>\n",
       "      <td>3.0</td>\n",
       "      <td>0</td>\n",
       "    </tr>\n",
       "    <tr>\n",
       "      <th>53</th>\n",
       "      <td>4.0</td>\n",
       "      <td>63.0</td>\n",
       "      <td>2.0</td>\n",
       "      <td>1.0</td>\n",
       "      <td>3.0</td>\n",
       "      <td>0</td>\n",
       "    </tr>\n",
       "    <tr>\n",
       "      <th>58</th>\n",
       "      <td>4.0</td>\n",
       "      <td>45.0</td>\n",
       "      <td>2.0</td>\n",
       "      <td>1.0</td>\n",
       "      <td>3.0</td>\n",
       "      <td>0</td>\n",
       "    </tr>\n",
       "    <tr>\n",
       "      <th>59</th>\n",
       "      <td>5.0</td>\n",
       "      <td>59.0</td>\n",
       "      <td>2.0</td>\n",
       "      <td>1.0</td>\n",
       "      <td>3.0</td>\n",
       "      <td>1</td>\n",
       "    </tr>\n",
       "    <tr>\n",
       "      <th>60</th>\n",
       "      <td>5.0</td>\n",
       "      <td>52.0</td>\n",
       "      <td>4.0</td>\n",
       "      <td>3.0</td>\n",
       "      <td>3.0</td>\n",
       "      <td>1</td>\n",
       "    </tr>\n",
       "    <tr>\n",
       "      <th>61</th>\n",
       "      <td>5.0</td>\n",
       "      <td>60.0</td>\n",
       "      <td>4.0</td>\n",
       "      <td>3.0</td>\n",
       "      <td>3.0</td>\n",
       "      <td>1</td>\n",
       "    </tr>\n",
       "    <tr>\n",
       "      <th>64</th>\n",
       "      <td>5.0</td>\n",
       "      <td>74.0</td>\n",
       "      <td>4.0</td>\n",
       "      <td>4.0</td>\n",
       "      <td>3.0</td>\n",
       "      <td>1</td>\n",
       "    </tr>\n",
       "    <tr>\n",
       "      <th>65</th>\n",
       "      <td>4.0</td>\n",
       "      <td>25.0</td>\n",
       "      <td>2.0</td>\n",
       "      <td>1.0</td>\n",
       "      <td>3.0</td>\n",
       "      <td>0</td>\n",
       "    </tr>\n",
       "    <tr>\n",
       "      <th>66</th>\n",
       "      <td>4.0</td>\n",
       "      <td>49.0</td>\n",
       "      <td>1.0</td>\n",
       "      <td>1.0</td>\n",
       "      <td>3.0</td>\n",
       "      <td>0</td>\n",
       "    </tr>\n",
       "    <tr>\n",
       "      <th>67</th>\n",
       "      <td>5.0</td>\n",
       "      <td>72.0</td>\n",
       "      <td>4.0</td>\n",
       "      <td>3.0</td>\n",
       "      <td>3.0</td>\n",
       "      <td>1</td>\n",
       "    </tr>\n",
       "    <tr>\n",
       "      <th>68</th>\n",
       "      <td>4.0</td>\n",
       "      <td>45.0</td>\n",
       "      <td>2.0</td>\n",
       "      <td>1.0</td>\n",
       "      <td>3.0</td>\n",
       "      <td>0</td>\n",
       "    </tr>\n",
       "    <tr>\n",
       "      <th>71</th>\n",
       "      <td>5.0</td>\n",
       "      <td>68.0</td>\n",
       "      <td>4.0</td>\n",
       "      <td>3.0</td>\n",
       "      <td>3.0</td>\n",
       "      <td>1</td>\n",
       "    </tr>\n",
       "    <tr>\n",
       "      <th>73</th>\n",
       "      <td>5.0</td>\n",
       "      <td>66.0</td>\n",
       "      <td>4.0</td>\n",
       "      <td>4.0</td>\n",
       "      <td>3.0</td>\n",
       "      <td>1</td>\n",
       "    </tr>\n",
       "    <tr>\n",
       "      <th>...</th>\n",
       "      <td>...</td>\n",
       "      <td>...</td>\n",
       "      <td>...</td>\n",
       "      <td>...</td>\n",
       "      <td>...</td>\n",
       "      <td>...</td>\n",
       "    </tr>\n",
       "    <tr>\n",
       "      <th>909</th>\n",
       "      <td>4.0</td>\n",
       "      <td>45.0</td>\n",
       "      <td>1.0</td>\n",
       "      <td>1.0</td>\n",
       "      <td>3.0</td>\n",
       "      <td>0</td>\n",
       "    </tr>\n",
       "    <tr>\n",
       "      <th>911</th>\n",
       "      <td>4.0</td>\n",
       "      <td>35.0</td>\n",
       "      <td>1.0</td>\n",
       "      <td>1.0</td>\n",
       "      <td>3.0</td>\n",
       "      <td>0</td>\n",
       "    </tr>\n",
       "    <tr>\n",
       "      <th>912</th>\n",
       "      <td>4.0</td>\n",
       "      <td>50.0</td>\n",
       "      <td>4.0</td>\n",
       "      <td>5.0</td>\n",
       "      <td>3.0</td>\n",
       "      <td>1</td>\n",
       "    </tr>\n",
       "    <tr>\n",
       "      <th>916</th>\n",
       "      <td>4.0</td>\n",
       "      <td>51.0</td>\n",
       "      <td>1.0</td>\n",
       "      <td>1.0</td>\n",
       "      <td>3.0</td>\n",
       "      <td>0</td>\n",
       "    </tr>\n",
       "    <tr>\n",
       "      <th>919</th>\n",
       "      <td>4.0</td>\n",
       "      <td>42.0</td>\n",
       "      <td>1.0</td>\n",
       "      <td>1.0</td>\n",
       "      <td>3.0</td>\n",
       "      <td>0</td>\n",
       "    </tr>\n",
       "    <tr>\n",
       "      <th>920</th>\n",
       "      <td>4.0</td>\n",
       "      <td>43.0</td>\n",
       "      <td>2.0</td>\n",
       "      <td>1.0</td>\n",
       "      <td>3.0</td>\n",
       "      <td>0</td>\n",
       "    </tr>\n",
       "    <tr>\n",
       "      <th>922</th>\n",
       "      <td>4.0</td>\n",
       "      <td>27.0</td>\n",
       "      <td>2.0</td>\n",
       "      <td>1.0</td>\n",
       "      <td>3.0</td>\n",
       "      <td>0</td>\n",
       "    </tr>\n",
       "    <tr>\n",
       "      <th>923</th>\n",
       "      <td>5.0</td>\n",
       "      <td>59.0</td>\n",
       "      <td>4.0</td>\n",
       "      <td>3.0</td>\n",
       "      <td>3.0</td>\n",
       "      <td>1</td>\n",
       "    </tr>\n",
       "    <tr>\n",
       "      <th>924</th>\n",
       "      <td>4.0</td>\n",
       "      <td>57.0</td>\n",
       "      <td>4.0</td>\n",
       "      <td>4.0</td>\n",
       "      <td>3.0</td>\n",
       "      <td>1</td>\n",
       "    </tr>\n",
       "    <tr>\n",
       "      <th>925</th>\n",
       "      <td>4.0</td>\n",
       "      <td>59.0</td>\n",
       "      <td>2.0</td>\n",
       "      <td>1.0</td>\n",
       "      <td>3.0</td>\n",
       "      <td>0</td>\n",
       "    </tr>\n",
       "    <tr>\n",
       "      <th>928</th>\n",
       "      <td>5.0</td>\n",
       "      <td>74.0</td>\n",
       "      <td>4.0</td>\n",
       "      <td>3.0</td>\n",
       "      <td>3.0</td>\n",
       "      <td>1</td>\n",
       "    </tr>\n",
       "    <tr>\n",
       "      <th>929</th>\n",
       "      <td>4.0</td>\n",
       "      <td>22.0</td>\n",
       "      <td>1.0</td>\n",
       "      <td>1.0</td>\n",
       "      <td>3.0</td>\n",
       "      <td>0</td>\n",
       "    </tr>\n",
       "    <tr>\n",
       "      <th>933</th>\n",
       "      <td>4.0</td>\n",
       "      <td>62.0</td>\n",
       "      <td>2.0</td>\n",
       "      <td>1.0</td>\n",
       "      <td>3.0</td>\n",
       "      <td>0</td>\n",
       "    </tr>\n",
       "    <tr>\n",
       "      <th>934</th>\n",
       "      <td>4.0</td>\n",
       "      <td>54.0</td>\n",
       "      <td>1.0</td>\n",
       "      <td>1.0</td>\n",
       "      <td>3.0</td>\n",
       "      <td>0</td>\n",
       "    </tr>\n",
       "    <tr>\n",
       "      <th>937</th>\n",
       "      <td>4.0</td>\n",
       "      <td>68.0</td>\n",
       "      <td>4.0</td>\n",
       "      <td>4.0</td>\n",
       "      <td>3.0</td>\n",
       "      <td>0</td>\n",
       "    </tr>\n",
       "    <tr>\n",
       "      <th>938</th>\n",
       "      <td>4.0</td>\n",
       "      <td>64.0</td>\n",
       "      <td>1.0</td>\n",
       "      <td>1.0</td>\n",
       "      <td>3.0</td>\n",
       "      <td>0</td>\n",
       "    </tr>\n",
       "    <tr>\n",
       "      <th>939</th>\n",
       "      <td>4.0</td>\n",
       "      <td>54.0</td>\n",
       "      <td>2.0</td>\n",
       "      <td>4.0</td>\n",
       "      <td>3.0</td>\n",
       "      <td>0</td>\n",
       "    </tr>\n",
       "    <tr>\n",
       "      <th>945</th>\n",
       "      <td>4.0</td>\n",
       "      <td>59.0</td>\n",
       "      <td>2.0</td>\n",
       "      <td>1.0</td>\n",
       "      <td>3.0</td>\n",
       "      <td>0</td>\n",
       "    </tr>\n",
       "    <tr>\n",
       "      <th>946</th>\n",
       "      <td>4.0</td>\n",
       "      <td>57.0</td>\n",
       "      <td>2.0</td>\n",
       "      <td>4.0</td>\n",
       "      <td>3.0</td>\n",
       "      <td>0</td>\n",
       "    </tr>\n",
       "    <tr>\n",
       "      <th>948</th>\n",
       "      <td>4.0</td>\n",
       "      <td>54.0</td>\n",
       "      <td>4.0</td>\n",
       "      <td>4.0</td>\n",
       "      <td>3.0</td>\n",
       "      <td>1</td>\n",
       "    </tr>\n",
       "    <tr>\n",
       "      <th>949</th>\n",
       "      <td>4.0</td>\n",
       "      <td>53.0</td>\n",
       "      <td>2.0</td>\n",
       "      <td>1.0</td>\n",
       "      <td>3.0</td>\n",
       "      <td>0</td>\n",
       "    </tr>\n",
       "    <tr>\n",
       "      <th>951</th>\n",
       "      <td>5.0</td>\n",
       "      <td>67.0</td>\n",
       "      <td>4.0</td>\n",
       "      <td>5.0</td>\n",
       "      <td>3.0</td>\n",
       "      <td>1</td>\n",
       "    </tr>\n",
       "    <tr>\n",
       "      <th>952</th>\n",
       "      <td>4.0</td>\n",
       "      <td>68.0</td>\n",
       "      <td>4.0</td>\n",
       "      <td>4.0</td>\n",
       "      <td>3.0</td>\n",
       "      <td>1</td>\n",
       "    </tr>\n",
       "    <tr>\n",
       "      <th>953</th>\n",
       "      <td>4.0</td>\n",
       "      <td>56.0</td>\n",
       "      <td>2.0</td>\n",
       "      <td>4.0</td>\n",
       "      <td>3.0</td>\n",
       "      <td>0</td>\n",
       "    </tr>\n",
       "    <tr>\n",
       "      <th>954</th>\n",
       "      <td>4.0</td>\n",
       "      <td>35.0</td>\n",
       "      <td>2.0</td>\n",
       "      <td>1.0</td>\n",
       "      <td>3.0</td>\n",
       "      <td>0</td>\n",
       "    </tr>\n",
       "    <tr>\n",
       "      <th>955</th>\n",
       "      <td>4.0</td>\n",
       "      <td>52.0</td>\n",
       "      <td>4.0</td>\n",
       "      <td>4.0</td>\n",
       "      <td>3.0</td>\n",
       "      <td>1</td>\n",
       "    </tr>\n",
       "    <tr>\n",
       "      <th>956</th>\n",
       "      <td>4.0</td>\n",
       "      <td>47.0</td>\n",
       "      <td>2.0</td>\n",
       "      <td>1.0</td>\n",
       "      <td>3.0</td>\n",
       "      <td>0</td>\n",
       "    </tr>\n",
       "    <tr>\n",
       "      <th>958</th>\n",
       "      <td>4.0</td>\n",
       "      <td>64.0</td>\n",
       "      <td>4.0</td>\n",
       "      <td>5.0</td>\n",
       "      <td>3.0</td>\n",
       "      <td>0</td>\n",
       "    </tr>\n",
       "    <tr>\n",
       "      <th>959</th>\n",
       "      <td>5.0</td>\n",
       "      <td>66.0</td>\n",
       "      <td>4.0</td>\n",
       "      <td>5.0</td>\n",
       "      <td>3.0</td>\n",
       "      <td>1</td>\n",
       "    </tr>\n",
       "    <tr>\n",
       "      <th>960</th>\n",
       "      <td>4.0</td>\n",
       "      <td>62.0</td>\n",
       "      <td>3.0</td>\n",
       "      <td>3.0</td>\n",
       "      <td>3.0</td>\n",
       "      <td>0</td>\n",
       "    </tr>\n",
       "  </tbody>\n",
       "</table>\n",
       "<p>502 rows × 6 columns</p>\n",
       "</div>"
      ],
      "text/plain": [
       "     BI-RADS   age  shape  margin  density  severity\n",
       "0        5.0  67.0    3.0     5.0      3.0         1\n",
       "1        4.0  43.0    1.0     1.0      3.0         1\n",
       "2        5.0  58.0    4.0     5.0      3.0         1\n",
       "12       4.0  64.0    1.0     1.0      3.0         0\n",
       "15       4.0  54.0    1.0     1.0      3.0         0\n",
       "17       4.0  59.0    2.0     1.0      3.0         1\n",
       "19       4.0  40.0    1.0     1.0      3.0         0\n",
       "22       4.0  43.0    1.0     1.0      3.0         0\n",
       "23       5.0  42.0    4.0     4.0      3.0         1\n",
       "25       5.0  75.0    4.0     5.0      3.0         1\n",
       "31       5.0  54.0    4.0     4.0      3.0         1\n",
       "36       4.0  60.0    2.0     1.0      3.0         0\n",
       "40       4.0  59.0    2.0     1.0      3.0         0\n",
       "42       4.0  50.0    1.0     1.0      3.0         0\n",
       "46       5.0  64.0    4.0     5.0      3.0         1\n",
       "47       4.0  23.0    1.0     1.0      3.0         0\n",
       "49       5.0  67.0    4.0     5.0      3.0         1\n",
       "52       4.0  23.0    1.0     1.0      3.0         0\n",
       "53       4.0  63.0    2.0     1.0      3.0         0\n",
       "58       4.0  45.0    2.0     1.0      3.0         0\n",
       "59       5.0  59.0    2.0     1.0      3.0         1\n",
       "60       5.0  52.0    4.0     3.0      3.0         1\n",
       "61       5.0  60.0    4.0     3.0      3.0         1\n",
       "64       5.0  74.0    4.0     4.0      3.0         1\n",
       "65       4.0  25.0    2.0     1.0      3.0         0\n",
       "66       4.0  49.0    1.0     1.0      3.0         0\n",
       "67       5.0  72.0    4.0     3.0      3.0         1\n",
       "68       4.0  45.0    2.0     1.0      3.0         0\n",
       "71       5.0  68.0    4.0     3.0      3.0         1\n",
       "73       5.0  66.0    4.0     4.0      3.0         1\n",
       "..       ...   ...    ...     ...      ...       ...\n",
       "909      4.0  45.0    1.0     1.0      3.0         0\n",
       "911      4.0  35.0    1.0     1.0      3.0         0\n",
       "912      4.0  50.0    4.0     5.0      3.0         1\n",
       "916      4.0  51.0    1.0     1.0      3.0         0\n",
       "919      4.0  42.0    1.0     1.0      3.0         0\n",
       "920      4.0  43.0    2.0     1.0      3.0         0\n",
       "922      4.0  27.0    2.0     1.0      3.0         0\n",
       "923      5.0  59.0    4.0     3.0      3.0         1\n",
       "924      4.0  57.0    4.0     4.0      3.0         1\n",
       "925      4.0  59.0    2.0     1.0      3.0         0\n",
       "928      5.0  74.0    4.0     3.0      3.0         1\n",
       "929      4.0  22.0    1.0     1.0      3.0         0\n",
       "933      4.0  62.0    2.0     1.0      3.0         0\n",
       "934      4.0  54.0    1.0     1.0      3.0         0\n",
       "937      4.0  68.0    4.0     4.0      3.0         0\n",
       "938      4.0  64.0    1.0     1.0      3.0         0\n",
       "939      4.0  54.0    2.0     4.0      3.0         0\n",
       "945      4.0  59.0    2.0     1.0      3.0         0\n",
       "946      4.0  57.0    2.0     4.0      3.0         0\n",
       "948      4.0  54.0    4.0     4.0      3.0         1\n",
       "949      4.0  53.0    2.0     1.0      3.0         0\n",
       "951      5.0  67.0    4.0     5.0      3.0         1\n",
       "952      4.0  68.0    4.0     4.0      3.0         1\n",
       "953      4.0  56.0    2.0     4.0      3.0         0\n",
       "954      4.0  35.0    2.0     1.0      3.0         0\n",
       "955      4.0  52.0    4.0     4.0      3.0         1\n",
       "956      4.0  47.0    2.0     1.0      3.0         0\n",
       "958      4.0  64.0    4.0     5.0      3.0         0\n",
       "959      5.0  66.0    4.0     5.0      3.0         1\n",
       "960      4.0  62.0    3.0     3.0      3.0         0\n",
       "\n",
       "[502 rows x 6 columns]"
      ]
     },
     "execution_count": 21,
     "metadata": {},
     "output_type": "execute_result"
    }
   ],
   "source": [
    "# Check if there is any duplicated rows in dataset\n",
    "df[df.duplicated(keep=False)]"
   ]
  },
  {
   "cell_type": "markdown",
   "metadata": {},
   "source": [
    "It shows that thera are a lot of duplicated columns, but due to the essence of data, it is possible that two or more people at\n",
    "the same age have the same problem. Furthermore, we can not find any evidence that two deuplicated rows belong to the\n",
    "same person( there is no Firstname or Surname). Therefore, we keep all the data and do not remove any rows from our Datasets."
   ]
  },
  {
   "cell_type": "code",
   "execution_count": 13,
   "metadata": {
    "collapsed": false
   },
   "outputs": [
    {
     "data": {
      "text/html": [
       "<div>\n",
       "<table border=\"1\" class=\"dataframe\">\n",
       "  <thead>\n",
       "    <tr style=\"text-align: right;\">\n",
       "      <th></th>\n",
       "      <th>BI-RADS</th>\n",
       "      <th>age</th>\n",
       "      <th>shape</th>\n",
       "      <th>margin</th>\n",
       "      <th>density</th>\n",
       "      <th>severity</th>\n",
       "    </tr>\n",
       "  </thead>\n",
       "  <tbody>\n",
       "    <tr>\n",
       "      <th>count</th>\n",
       "      <td>961.000000</td>\n",
       "      <td>961.000000</td>\n",
       "      <td>961.000000</td>\n",
       "      <td>961.000000</td>\n",
       "      <td>961.000000</td>\n",
       "      <td>961.000000</td>\n",
       "    </tr>\n",
       "    <tr>\n",
       "      <th>mean</th>\n",
       "      <td>4.347555</td>\n",
       "      <td>55.505723</td>\n",
       "      <td>2.762747</td>\n",
       "      <td>2.706556</td>\n",
       "      <td>2.917794</td>\n",
       "      <td>0.463059</td>\n",
       "    </tr>\n",
       "    <tr>\n",
       "      <th>std</th>\n",
       "      <td>1.781244</td>\n",
       "      <td>14.444586</td>\n",
       "      <td>1.243276</td>\n",
       "      <td>1.576272</td>\n",
       "      <td>0.365869</td>\n",
       "      <td>0.498893</td>\n",
       "    </tr>\n",
       "    <tr>\n",
       "      <th>min</th>\n",
       "      <td>0.000000</td>\n",
       "      <td>18.000000</td>\n",
       "      <td>1.000000</td>\n",
       "      <td>1.000000</td>\n",
       "      <td>1.000000</td>\n",
       "      <td>0.000000</td>\n",
       "    </tr>\n",
       "    <tr>\n",
       "      <th>25%</th>\n",
       "      <td>4.000000</td>\n",
       "      <td>45.000000</td>\n",
       "      <td>2.000000</td>\n",
       "      <td>1.000000</td>\n",
       "      <td>3.000000</td>\n",
       "      <td>0.000000</td>\n",
       "    </tr>\n",
       "    <tr>\n",
       "      <th>50%</th>\n",
       "      <td>4.000000</td>\n",
       "      <td>57.000000</td>\n",
       "      <td>3.000000</td>\n",
       "      <td>3.000000</td>\n",
       "      <td>3.000000</td>\n",
       "      <td>0.000000</td>\n",
       "    </tr>\n",
       "    <tr>\n",
       "      <th>75%</th>\n",
       "      <td>5.000000</td>\n",
       "      <td>66.000000</td>\n",
       "      <td>4.000000</td>\n",
       "      <td>4.000000</td>\n",
       "      <td>3.000000</td>\n",
       "      <td>1.000000</td>\n",
       "    </tr>\n",
       "    <tr>\n",
       "      <th>max</th>\n",
       "      <td>55.000000</td>\n",
       "      <td>96.000000</td>\n",
       "      <td>4.000000</td>\n",
       "      <td>5.000000</td>\n",
       "      <td>4.000000</td>\n",
       "      <td>1.000000</td>\n",
       "    </tr>\n",
       "  </tbody>\n",
       "</table>\n",
       "</div>"
      ],
      "text/plain": [
       "          BI-RADS         age       shape      margin     density    severity\n",
       "count  961.000000  961.000000  961.000000  961.000000  961.000000  961.000000\n",
       "mean     4.347555   55.505723    2.762747    2.706556    2.917794    0.463059\n",
       "std      1.781244   14.444586    1.243276    1.576272    0.365869    0.498893\n",
       "min      0.000000   18.000000    1.000000    1.000000    1.000000    0.000000\n",
       "25%      4.000000   45.000000    2.000000    1.000000    3.000000    0.000000\n",
       "50%      4.000000   57.000000    3.000000    3.000000    3.000000    0.000000\n",
       "75%      5.000000   66.000000    4.000000    4.000000    3.000000    1.000000\n",
       "max     55.000000   96.000000    4.000000    5.000000    4.000000    1.000000"
      ]
     },
     "execution_count": 13,
     "metadata": {},
     "output_type": "execute_result"
    }
   ],
   "source": [
    "## using describe function to describe our dataset\n",
    "df.describe()"
   ]
  },
  {
   "cell_type": "markdown",
   "metadata": {},
   "source": [
    "# Pairwise\n",
    "Using seaborn library to draw a pairplot which describes the correlation between features. But, due to essence of our data which are mos,  categorical, we do not expect to get the any special insight out of it."
   ]
  },
  {
   "cell_type": "code",
   "execution_count": 569,
   "metadata": {
    "collapsed": false
   },
   "outputs": [
    {
     "data": {
      "text/plain": [
       "<seaborn.axisgrid.PairGrid at 0x26fd5e400f0>"
      ]
     },
     "execution_count": 569,
     "metadata": {},
     "output_type": "execute_result"
    },
    {
     "data": {
      "image/png": "[encoded data removed]",
      "text/plain": [
       "<Figure size 1128.12x1080 with 42 Axes>"
      ]
     },
     "metadata": {},
     "output_type": "display_data"
    }
   ],
   "source": [
    "sns.pairplot(df, hue = 'severity', palette = 'coolwarm')"
   ]
  },
  {
   "cell_type": "markdown",
   "metadata": {
    "collapsed": true
   },
   "source": [
    "# Preparing Data (Dummy Variables, Scaling, Transforming)"
   ]
  },
  {
   "cell_type": "markdown",
   "metadata": {
    "collapsed": false
   },
   "source": [
    "First of all, we need to use dummy variable to prepare our categorical data for machine learning algorithm. \n",
    "If we have k values for a categorical feature, we can describe that data with K-1 new dummy columns. Shape and Margin are two categorical(nominal) features that should change to dummy variables by using get_dummies()."
   ]
  },
  {
   "cell_type": "code",
   "execution_count": 33,
   "metadata": {
    "collapsed": false
   },
   "outputs": [
    {
     "data": {
      "text/plain": [
       "Index(['BI-RADS', 'age', 'density', 'shape_2.0', 'shape_3.0', 'shape_4.0',\n",
       "       'margin_2.0', 'margin_3.0', 'margin_4.0', 'margin_5.0'],\n",
       "      dtype='object')"
      ]
     },
     "execution_count": 33,
     "metadata": {},
     "output_type": "execute_result"
    }
   ],
   "source": [
    "df1 = pd.get_dummies(df, columns=['shape','margin'] , drop_first=True)\n",
    "\n",
    "## Dropping sevetity feature as it is our target variable\n",
    "df1.columns.drop('severity')"
   ]
  },
  {
   "cell_type": "markdown",
   "metadata": {},
   "source": [
    "Using StandardScaler from Scikitlearn library, all the features are scaled and transformed. Therefore, these features can be\n",
    "used in any scale sensetive models(like KNN)."
   ]
  },
  {
   "cell_type": "code",
   "execution_count": 34,
   "metadata": {
    "collapsed": false
   },
   "outputs": [],
   "source": [
    "from sklearn.preprocessing import StandardScaler"
   ]
  },
  {
   "cell_type": "code",
   "execution_count": 35,
   "metadata": {
    "collapsed": false
   },
   "outputs": [
    {
     "data": {
      "text/html": [
       "<div>\n",
       "<table border=\"1\" class=\"dataframe\">\n",
       "  <thead>\n",
       "    <tr style=\"text-align: right;\">\n",
       "      <th></th>\n",
       "      <th>BI-RADS</th>\n",
       "      <th>age</th>\n",
       "      <th>density</th>\n",
       "      <th>shape_2.0</th>\n",
       "      <th>shape_3.0</th>\n",
       "      <th>shape_4.0</th>\n",
       "      <th>margin_2.0</th>\n",
       "      <th>margin_3.0</th>\n",
       "      <th>margin_4.0</th>\n",
       "      <th>margin_5.0</th>\n",
       "    </tr>\n",
       "  </thead>\n",
       "  <tbody>\n",
       "    <tr>\n",
       "      <th>0</th>\n",
       "      <td>0.366477</td>\n",
       "      <td>0.796164</td>\n",
       "      <td>0.224804</td>\n",
       "      <td>-0.530409</td>\n",
       "      <td>3.019237</td>\n",
       "      <td>-0.901780</td>\n",
       "      <td>-0.160043</td>\n",
       "      <td>-0.370511</td>\n",
       "      <td>-0.641218</td>\n",
       "      <td>2.462961</td>\n",
       "    </tr>\n",
       "    <tr>\n",
       "      <th>1</th>\n",
       "      <td>-0.195221</td>\n",
       "      <td>-0.866223</td>\n",
       "      <td>0.224804</td>\n",
       "      <td>-0.530409</td>\n",
       "      <td>-0.331210</td>\n",
       "      <td>-0.901780</td>\n",
       "      <td>-0.160043</td>\n",
       "      <td>-0.370511</td>\n",
       "      <td>-0.641218</td>\n",
       "      <td>-0.406015</td>\n",
       "    </tr>\n",
       "    <tr>\n",
       "      <th>2</th>\n",
       "      <td>0.366477</td>\n",
       "      <td>0.172769</td>\n",
       "      <td>0.224804</td>\n",
       "      <td>-0.530409</td>\n",
       "      <td>-0.331210</td>\n",
       "      <td>1.108918</td>\n",
       "      <td>-0.160043</td>\n",
       "      <td>-0.370511</td>\n",
       "      <td>-0.641218</td>\n",
       "      <td>2.462961</td>\n",
       "    </tr>\n",
       "    <tr>\n",
       "      <th>3</th>\n",
       "      <td>-0.195221</td>\n",
       "      <td>-1.905215</td>\n",
       "      <td>0.224804</td>\n",
       "      <td>-0.530409</td>\n",
       "      <td>-0.331210</td>\n",
       "      <td>-0.901780</td>\n",
       "      <td>-0.160043</td>\n",
       "      <td>-0.370511</td>\n",
       "      <td>-0.641218</td>\n",
       "      <td>-0.406015</td>\n",
       "    </tr>\n",
       "    <tr>\n",
       "      <th>4</th>\n",
       "      <td>0.366477</td>\n",
       "      <td>1.281027</td>\n",
       "      <td>0.224804</td>\n",
       "      <td>-0.530409</td>\n",
       "      <td>-0.331210</td>\n",
       "      <td>-0.901780</td>\n",
       "      <td>-0.160043</td>\n",
       "      <td>-0.370511</td>\n",
       "      <td>-0.641218</td>\n",
       "      <td>2.462961</td>\n",
       "    </tr>\n",
       "    <tr>\n",
       "      <th>5</th>\n",
       "      <td>-0.195221</td>\n",
       "      <td>0.657632</td>\n",
       "      <td>0.224804</td>\n",
       "      <td>-0.530409</td>\n",
       "      <td>-0.331210</td>\n",
       "      <td>-0.901780</td>\n",
       "      <td>-0.160043</td>\n",
       "      <td>-0.370511</td>\n",
       "      <td>-0.641218</td>\n",
       "      <td>-0.406015</td>\n",
       "    </tr>\n",
       "    <tr>\n",
       "      <th>6</th>\n",
       "      <td>-0.195221</td>\n",
       "      <td>1.003963</td>\n",
       "      <td>0.224804</td>\n",
       "      <td>-0.530409</td>\n",
       "      <td>-0.331210</td>\n",
       "      <td>1.108918</td>\n",
       "      <td>-0.160043</td>\n",
       "      <td>-0.370511</td>\n",
       "      <td>-0.641218</td>\n",
       "      <td>-0.406015</td>\n",
       "    </tr>\n",
       "    <tr>\n",
       "      <th>7</th>\n",
       "      <td>0.366477</td>\n",
       "      <td>-0.935489</td>\n",
       "      <td>0.224804</td>\n",
       "      <td>-0.530409</td>\n",
       "      <td>-0.331210</td>\n",
       "      <td>-0.901780</td>\n",
       "      <td>-0.160043</td>\n",
       "      <td>-0.370511</td>\n",
       "      <td>-0.641218</td>\n",
       "      <td>-0.406015</td>\n",
       "    </tr>\n",
       "    <tr>\n",
       "      <th>8</th>\n",
       "      <td>0.366477</td>\n",
       "      <td>0.103503</td>\n",
       "      <td>0.224804</td>\n",
       "      <td>-0.530409</td>\n",
       "      <td>-0.331210</td>\n",
       "      <td>-0.901780</td>\n",
       "      <td>-0.160043</td>\n",
       "      <td>-0.370511</td>\n",
       "      <td>-0.641218</td>\n",
       "      <td>2.462961</td>\n",
       "    </tr>\n",
       "    <tr>\n",
       "      <th>9</th>\n",
       "      <td>0.366477</td>\n",
       "      <td>0.311301</td>\n",
       "      <td>-5.244480</td>\n",
       "      <td>-0.530409</td>\n",
       "      <td>-0.331210</td>\n",
       "      <td>1.108918</td>\n",
       "      <td>-0.160043</td>\n",
       "      <td>-0.370511</td>\n",
       "      <td>-0.641218</td>\n",
       "      <td>2.462961</td>\n",
       "    </tr>\n",
       "    <tr>\n",
       "      <th>10</th>\n",
       "      <td>0.366477</td>\n",
       "      <td>1.419559</td>\n",
       "      <td>0.224804</td>\n",
       "      <td>-0.530409</td>\n",
       "      <td>-0.331210</td>\n",
       "      <td>-0.901780</td>\n",
       "      <td>-0.160043</td>\n",
       "      <td>-0.370511</td>\n",
       "      <td>1.559533</td>\n",
       "      <td>-0.406015</td>\n",
       "    </tr>\n",
       "    <tr>\n",
       "      <th>11</th>\n",
       "      <td>-0.756918</td>\n",
       "      <td>-0.935489</td>\n",
       "      <td>0.224804</td>\n",
       "      <td>1.885339</td>\n",
       "      <td>-0.331210</td>\n",
       "      <td>-0.901780</td>\n",
       "      <td>-0.160043</td>\n",
       "      <td>-0.370511</td>\n",
       "      <td>-0.641218</td>\n",
       "      <td>-0.406015</td>\n",
       "    </tr>\n",
       "    <tr>\n",
       "      <th>12</th>\n",
       "      <td>-0.195221</td>\n",
       "      <td>0.588366</td>\n",
       "      <td>0.224804</td>\n",
       "      <td>-0.530409</td>\n",
       "      <td>-0.331210</td>\n",
       "      <td>-0.901780</td>\n",
       "      <td>-0.160043</td>\n",
       "      <td>-0.370511</td>\n",
       "      <td>-0.641218</td>\n",
       "      <td>-0.406015</td>\n",
       "    </tr>\n",
       "    <tr>\n",
       "      <th>13</th>\n",
       "      <td>-0.195221</td>\n",
       "      <td>-1.351086</td>\n",
       "      <td>-2.509838</td>\n",
       "      <td>-0.530409</td>\n",
       "      <td>3.019237</td>\n",
       "      <td>-0.901780</td>\n",
       "      <td>-0.160043</td>\n",
       "      <td>-0.370511</td>\n",
       "      <td>-0.641218</td>\n",
       "      <td>-0.406015</td>\n",
       "    </tr>\n",
       "    <tr>\n",
       "      <th>14</th>\n",
       "      <td>-0.195221</td>\n",
       "      <td>0.311301</td>\n",
       "      <td>-2.509838</td>\n",
       "      <td>1.885339</td>\n",
       "      <td>-0.331210</td>\n",
       "      <td>-0.901780</td>\n",
       "      <td>-0.160043</td>\n",
       "      <td>-0.370511</td>\n",
       "      <td>-0.641218</td>\n",
       "      <td>-0.406015</td>\n",
       "    </tr>\n",
       "    <tr>\n",
       "      <th>15</th>\n",
       "      <td>-0.195221</td>\n",
       "      <td>-0.104296</td>\n",
       "      <td>0.224804</td>\n",
       "      <td>-0.530409</td>\n",
       "      <td>-0.331210</td>\n",
       "      <td>-0.901780</td>\n",
       "      <td>-0.160043</td>\n",
       "      <td>-0.370511</td>\n",
       "      <td>-0.641218</td>\n",
       "      <td>-0.406015</td>\n",
       "    </tr>\n",
       "    <tr>\n",
       "      <th>16</th>\n",
       "      <td>-0.756918</td>\n",
       "      <td>-0.242828</td>\n",
       "      <td>0.224804</td>\n",
       "      <td>-0.530409</td>\n",
       "      <td>3.019237</td>\n",
       "      <td>-0.901780</td>\n",
       "      <td>-0.160043</td>\n",
       "      <td>-0.370511</td>\n",
       "      <td>1.559533</td>\n",
       "      <td>-0.406015</td>\n",
       "    </tr>\n",
       "    <tr>\n",
       "      <th>17</th>\n",
       "      <td>-0.195221</td>\n",
       "      <td>0.242035</td>\n",
       "      <td>0.224804</td>\n",
       "      <td>1.885339</td>\n",
       "      <td>-0.331210</td>\n",
       "      <td>-0.901780</td>\n",
       "      <td>-0.160043</td>\n",
       "      <td>-0.370511</td>\n",
       "      <td>-0.641218</td>\n",
       "      <td>-0.406015</td>\n",
       "    </tr>\n",
       "    <tr>\n",
       "      <th>18</th>\n",
       "      <td>-0.195221</td>\n",
       "      <td>-0.104296</td>\n",
       "      <td>0.224804</td>\n",
       "      <td>-0.530409</td>\n",
       "      <td>-0.331210</td>\n",
       "      <td>-0.901780</td>\n",
       "      <td>-0.160043</td>\n",
       "      <td>-0.370511</td>\n",
       "      <td>-0.641218</td>\n",
       "      <td>-0.406015</td>\n",
       "    </tr>\n",
       "    <tr>\n",
       "      <th>19</th>\n",
       "      <td>-0.195221</td>\n",
       "      <td>-1.074022</td>\n",
       "      <td>0.224804</td>\n",
       "      <td>-0.530409</td>\n",
       "      <td>-0.331210</td>\n",
       "      <td>-0.901780</td>\n",
       "      <td>-0.160043</td>\n",
       "      <td>-0.370511</td>\n",
       "      <td>-0.641218</td>\n",
       "      <td>-0.406015</td>\n",
       "    </tr>\n",
       "    <tr>\n",
       "      <th>20</th>\n",
       "      <td>-0.195221</td>\n",
       "      <td>0.726898</td>\n",
       "      <td>-5.244480</td>\n",
       "      <td>-0.530409</td>\n",
       "      <td>-0.331210</td>\n",
       "      <td>1.108918</td>\n",
       "      <td>-0.160043</td>\n",
       "      <td>-0.370511</td>\n",
       "      <td>-0.641218</td>\n",
       "      <td>-0.406015</td>\n",
       "    </tr>\n",
       "    <tr>\n",
       "      <th>21</th>\n",
       "      <td>0.366477</td>\n",
       "      <td>0.034237</td>\n",
       "      <td>-5.244480</td>\n",
       "      <td>-0.530409</td>\n",
       "      <td>-0.331210</td>\n",
       "      <td>1.108918</td>\n",
       "      <td>-0.160043</td>\n",
       "      <td>2.698978</td>\n",
       "      <td>-0.641218</td>\n",
       "      <td>-0.406015</td>\n",
       "    </tr>\n",
       "    <tr>\n",
       "      <th>22</th>\n",
       "      <td>-0.195221</td>\n",
       "      <td>-0.866223</td>\n",
       "      <td>0.224804</td>\n",
       "      <td>-0.530409</td>\n",
       "      <td>-0.331210</td>\n",
       "      <td>-0.901780</td>\n",
       "      <td>-0.160043</td>\n",
       "      <td>-0.370511</td>\n",
       "      <td>-0.641218</td>\n",
       "      <td>-0.406015</td>\n",
       "    </tr>\n",
       "    <tr>\n",
       "      <th>23</th>\n",
       "      <td>0.366477</td>\n",
       "      <td>-0.935489</td>\n",
       "      <td>0.224804</td>\n",
       "      <td>-0.530409</td>\n",
       "      <td>-0.331210</td>\n",
       "      <td>1.108918</td>\n",
       "      <td>-0.160043</td>\n",
       "      <td>-0.370511</td>\n",
       "      <td>1.559533</td>\n",
       "      <td>-0.406015</td>\n",
       "    </tr>\n",
       "    <tr>\n",
       "      <th>24</th>\n",
       "      <td>-0.195221</td>\n",
       "      <td>0.242035</td>\n",
       "      <td>0.224804</td>\n",
       "      <td>1.885339</td>\n",
       "      <td>-0.331210</td>\n",
       "      <td>-0.901780</td>\n",
       "      <td>-0.160043</td>\n",
       "      <td>-0.370511</td>\n",
       "      <td>1.559533</td>\n",
       "      <td>-0.406015</td>\n",
       "    </tr>\n",
       "    <tr>\n",
       "      <th>25</th>\n",
       "      <td>0.366477</td>\n",
       "      <td>1.350293</td>\n",
       "      <td>0.224804</td>\n",
       "      <td>-0.530409</td>\n",
       "      <td>-0.331210</td>\n",
       "      <td>1.108918</td>\n",
       "      <td>-0.160043</td>\n",
       "      <td>-0.370511</td>\n",
       "      <td>-0.641218</td>\n",
       "      <td>2.462961</td>\n",
       "    </tr>\n",
       "    <tr>\n",
       "      <th>26</th>\n",
       "      <td>-1.318616</td>\n",
       "      <td>0.726898</td>\n",
       "      <td>0.224804</td>\n",
       "      <td>-0.530409</td>\n",
       "      <td>-0.331210</td>\n",
       "      <td>-0.901780</td>\n",
       "      <td>-0.160043</td>\n",
       "      <td>-0.370511</td>\n",
       "      <td>-0.641218</td>\n",
       "      <td>-0.406015</td>\n",
       "    </tr>\n",
       "    <tr>\n",
       "      <th>27</th>\n",
       "      <td>0.366477</td>\n",
       "      <td>0.519100</td>\n",
       "      <td>0.224804</td>\n",
       "      <td>-0.530409</td>\n",
       "      <td>3.019237</td>\n",
       "      <td>-0.901780</td>\n",
       "      <td>-0.160043</td>\n",
       "      <td>-0.370511</td>\n",
       "      <td>-0.641218</td>\n",
       "      <td>-0.406015</td>\n",
       "    </tr>\n",
       "    <tr>\n",
       "      <th>28</th>\n",
       "      <td>0.366477</td>\n",
       "      <td>-0.727691</td>\n",
       "      <td>0.224804</td>\n",
       "      <td>-0.530409</td>\n",
       "      <td>-0.331210</td>\n",
       "      <td>1.108918</td>\n",
       "      <td>-0.160043</td>\n",
       "      <td>-0.370511</td>\n",
       "      <td>-0.641218</td>\n",
       "      <td>2.462961</td>\n",
       "    </tr>\n",
       "    <tr>\n",
       "      <th>29</th>\n",
       "      <td>0.366477</td>\n",
       "      <td>-0.035029</td>\n",
       "      <td>0.224804</td>\n",
       "      <td>-0.530409</td>\n",
       "      <td>-0.331210</td>\n",
       "      <td>1.108918</td>\n",
       "      <td>-0.160043</td>\n",
       "      <td>-0.370511</td>\n",
       "      <td>1.559533</td>\n",
       "      <td>-0.406015</td>\n",
       "    </tr>\n",
       "    <tr>\n",
       "      <th>...</th>\n",
       "      <td>...</td>\n",
       "      <td>...</td>\n",
       "      <td>...</td>\n",
       "      <td>...</td>\n",
       "      <td>...</td>\n",
       "      <td>...</td>\n",
       "      <td>...</td>\n",
       "      <td>...</td>\n",
       "      <td>...</td>\n",
       "      <td>...</td>\n",
       "    </tr>\n",
       "    <tr>\n",
       "      <th>931</th>\n",
       "      <td>-0.195221</td>\n",
       "      <td>0.103503</td>\n",
       "      <td>0.224804</td>\n",
       "      <td>-0.530409</td>\n",
       "      <td>-0.331210</td>\n",
       "      <td>1.108918</td>\n",
       "      <td>-0.160043</td>\n",
       "      <td>2.698978</td>\n",
       "      <td>-0.641218</td>\n",
       "      <td>-0.406015</td>\n",
       "    </tr>\n",
       "    <tr>\n",
       "      <th>932</th>\n",
       "      <td>-0.195221</td>\n",
       "      <td>-0.035029</td>\n",
       "      <td>-2.509838</td>\n",
       "      <td>1.885339</td>\n",
       "      <td>-0.331210</td>\n",
       "      <td>-0.901780</td>\n",
       "      <td>-0.160043</td>\n",
       "      <td>-0.370511</td>\n",
       "      <td>-0.641218</td>\n",
       "      <td>-0.406015</td>\n",
       "    </tr>\n",
       "    <tr>\n",
       "      <th>933</th>\n",
       "      <td>-0.195221</td>\n",
       "      <td>0.449833</td>\n",
       "      <td>0.224804</td>\n",
       "      <td>1.885339</td>\n",
       "      <td>-0.331210</td>\n",
       "      <td>-0.901780</td>\n",
       "      <td>-0.160043</td>\n",
       "      <td>-0.370511</td>\n",
       "      <td>-0.641218</td>\n",
       "      <td>-0.406015</td>\n",
       "    </tr>\n",
       "    <tr>\n",
       "      <th>934</th>\n",
       "      <td>-0.195221</td>\n",
       "      <td>-0.104296</td>\n",
       "      <td>0.224804</td>\n",
       "      <td>-0.530409</td>\n",
       "      <td>-0.331210</td>\n",
       "      <td>-0.901780</td>\n",
       "      <td>-0.160043</td>\n",
       "      <td>-0.370511</td>\n",
       "      <td>-0.641218</td>\n",
       "      <td>-0.406015</td>\n",
       "    </tr>\n",
       "    <tr>\n",
       "      <th>935</th>\n",
       "      <td>-0.195221</td>\n",
       "      <td>1.073229</td>\n",
       "      <td>0.224804</td>\n",
       "      <td>-0.530409</td>\n",
       "      <td>-0.331210</td>\n",
       "      <td>-0.901780</td>\n",
       "      <td>-0.160043</td>\n",
       "      <td>-0.370511</td>\n",
       "      <td>-0.641218</td>\n",
       "      <td>-0.406015</td>\n",
       "    </tr>\n",
       "    <tr>\n",
       "      <th>936</th>\n",
       "      <td>-0.195221</td>\n",
       "      <td>0.657632</td>\n",
       "      <td>0.224804</td>\n",
       "      <td>-0.530409</td>\n",
       "      <td>3.019237</td>\n",
       "      <td>-0.901780</td>\n",
       "      <td>-0.160043</td>\n",
       "      <td>2.698978</td>\n",
       "      <td>-0.641218</td>\n",
       "      <td>-0.406015</td>\n",
       "    </tr>\n",
       "    <tr>\n",
       "      <th>937</th>\n",
       "      <td>-0.195221</td>\n",
       "      <td>0.865430</td>\n",
       "      <td>0.224804</td>\n",
       "      <td>-0.530409</td>\n",
       "      <td>-0.331210</td>\n",
       "      <td>1.108918</td>\n",
       "      <td>-0.160043</td>\n",
       "      <td>-0.370511</td>\n",
       "      <td>1.559533</td>\n",
       "      <td>-0.406015</td>\n",
       "    </tr>\n",
       "    <tr>\n",
       "      <th>938</th>\n",
       "      <td>-0.195221</td>\n",
       "      <td>0.588366</td>\n",
       "      <td>0.224804</td>\n",
       "      <td>-0.530409</td>\n",
       "      <td>-0.331210</td>\n",
       "      <td>-0.901780</td>\n",
       "      <td>-0.160043</td>\n",
       "      <td>-0.370511</td>\n",
       "      <td>-0.641218</td>\n",
       "      <td>-0.406015</td>\n",
       "    </tr>\n",
       "    <tr>\n",
       "      <th>939</th>\n",
       "      <td>-0.195221</td>\n",
       "      <td>-0.104296</td>\n",
       "      <td>0.224804</td>\n",
       "      <td>1.885339</td>\n",
       "      <td>-0.331210</td>\n",
       "      <td>-0.901780</td>\n",
       "      <td>-0.160043</td>\n",
       "      <td>-0.370511</td>\n",
       "      <td>1.559533</td>\n",
       "      <td>-0.406015</td>\n",
       "    </tr>\n",
       "    <tr>\n",
       "      <th>940</th>\n",
       "      <td>-0.195221</td>\n",
       "      <td>-0.519892</td>\n",
       "      <td>0.224804</td>\n",
       "      <td>-0.530409</td>\n",
       "      <td>-0.331210</td>\n",
       "      <td>1.108918</td>\n",
       "      <td>-0.160043</td>\n",
       "      <td>-0.370511</td>\n",
       "      <td>1.559533</td>\n",
       "      <td>-0.406015</td>\n",
       "    </tr>\n",
       "    <tr>\n",
       "      <th>941</th>\n",
       "      <td>-0.195221</td>\n",
       "      <td>0.172769</td>\n",
       "      <td>0.224804</td>\n",
       "      <td>-0.530409</td>\n",
       "      <td>-0.331210</td>\n",
       "      <td>1.108918</td>\n",
       "      <td>-0.160043</td>\n",
       "      <td>2.698978</td>\n",
       "      <td>-0.641218</td>\n",
       "      <td>-0.406015</td>\n",
       "    </tr>\n",
       "    <tr>\n",
       "      <th>942</th>\n",
       "      <td>0.366477</td>\n",
       "      <td>0.172769</td>\n",
       "      <td>0.224804</td>\n",
       "      <td>-0.530409</td>\n",
       "      <td>3.019237</td>\n",
       "      <td>-0.901780</td>\n",
       "      <td>-0.160043</td>\n",
       "      <td>-0.370511</td>\n",
       "      <td>1.559533</td>\n",
       "      <td>-0.406015</td>\n",
       "    </tr>\n",
       "    <tr>\n",
       "      <th>943</th>\n",
       "      <td>-0.195221</td>\n",
       "      <td>1.003963</td>\n",
       "      <td>-5.244480</td>\n",
       "      <td>-0.530409</td>\n",
       "      <td>-0.331210</td>\n",
       "      <td>-0.901780</td>\n",
       "      <td>-0.160043</td>\n",
       "      <td>-0.370511</td>\n",
       "      <td>-0.641218</td>\n",
       "      <td>-0.406015</td>\n",
       "    </tr>\n",
       "    <tr>\n",
       "      <th>944</th>\n",
       "      <td>0.366477</td>\n",
       "      <td>1.003963</td>\n",
       "      <td>0.224804</td>\n",
       "      <td>-0.530409</td>\n",
       "      <td>-0.331210</td>\n",
       "      <td>-0.901780</td>\n",
       "      <td>-0.160043</td>\n",
       "      <td>-0.370511</td>\n",
       "      <td>1.559533</td>\n",
       "      <td>-0.406015</td>\n",
       "    </tr>\n",
       "    <tr>\n",
       "      <th>945</th>\n",
       "      <td>-0.195221</td>\n",
       "      <td>0.242035</td>\n",
       "      <td>0.224804</td>\n",
       "      <td>1.885339</td>\n",
       "      <td>-0.331210</td>\n",
       "      <td>-0.901780</td>\n",
       "      <td>-0.160043</td>\n",
       "      <td>-0.370511</td>\n",
       "      <td>-0.641218</td>\n",
       "      <td>-0.406015</td>\n",
       "    </tr>\n",
       "    <tr>\n",
       "      <th>946</th>\n",
       "      <td>-0.195221</td>\n",
       "      <td>0.103503</td>\n",
       "      <td>0.224804</td>\n",
       "      <td>1.885339</td>\n",
       "      <td>-0.331210</td>\n",
       "      <td>-0.901780</td>\n",
       "      <td>-0.160043</td>\n",
       "      <td>-0.370511</td>\n",
       "      <td>1.559533</td>\n",
       "      <td>-0.406015</td>\n",
       "    </tr>\n",
       "    <tr>\n",
       "      <th>947</th>\n",
       "      <td>-0.195221</td>\n",
       "      <td>-0.173562</td>\n",
       "      <td>0.224804</td>\n",
       "      <td>-0.530409</td>\n",
       "      <td>-0.331210</td>\n",
       "      <td>1.108918</td>\n",
       "      <td>-0.160043</td>\n",
       "      <td>-0.370511</td>\n",
       "      <td>-0.641218</td>\n",
       "      <td>2.462961</td>\n",
       "    </tr>\n",
       "    <tr>\n",
       "      <th>948</th>\n",
       "      <td>-0.195221</td>\n",
       "      <td>-0.104296</td>\n",
       "      <td>0.224804</td>\n",
       "      <td>-0.530409</td>\n",
       "      <td>-0.331210</td>\n",
       "      <td>1.108918</td>\n",
       "      <td>-0.160043</td>\n",
       "      <td>-0.370511</td>\n",
       "      <td>1.559533</td>\n",
       "      <td>-0.406015</td>\n",
       "    </tr>\n",
       "    <tr>\n",
       "      <th>949</th>\n",
       "      <td>-0.195221</td>\n",
       "      <td>-0.173562</td>\n",
       "      <td>0.224804</td>\n",
       "      <td>1.885339</td>\n",
       "      <td>-0.331210</td>\n",
       "      <td>-0.901780</td>\n",
       "      <td>-0.160043</td>\n",
       "      <td>-0.370511</td>\n",
       "      <td>-0.641218</td>\n",
       "      <td>-0.406015</td>\n",
       "    </tr>\n",
       "    <tr>\n",
       "      <th>950</th>\n",
       "      <td>-2.442012</td>\n",
       "      <td>1.073229</td>\n",
       "      <td>0.224804</td>\n",
       "      <td>-0.530409</td>\n",
       "      <td>-0.331210</td>\n",
       "      <td>1.108918</td>\n",
       "      <td>-0.160043</td>\n",
       "      <td>-0.370511</td>\n",
       "      <td>1.559533</td>\n",
       "      <td>-0.406015</td>\n",
       "    </tr>\n",
       "    <tr>\n",
       "      <th>951</th>\n",
       "      <td>0.366477</td>\n",
       "      <td>0.796164</td>\n",
       "      <td>0.224804</td>\n",
       "      <td>-0.530409</td>\n",
       "      <td>-0.331210</td>\n",
       "      <td>1.108918</td>\n",
       "      <td>-0.160043</td>\n",
       "      <td>-0.370511</td>\n",
       "      <td>-0.641218</td>\n",
       "      <td>2.462961</td>\n",
       "    </tr>\n",
       "    <tr>\n",
       "      <th>952</th>\n",
       "      <td>-0.195221</td>\n",
       "      <td>0.865430</td>\n",
       "      <td>0.224804</td>\n",
       "      <td>-0.530409</td>\n",
       "      <td>-0.331210</td>\n",
       "      <td>1.108918</td>\n",
       "      <td>-0.160043</td>\n",
       "      <td>-0.370511</td>\n",
       "      <td>1.559533</td>\n",
       "      <td>-0.406015</td>\n",
       "    </tr>\n",
       "    <tr>\n",
       "      <th>953</th>\n",
       "      <td>-0.195221</td>\n",
       "      <td>0.034237</td>\n",
       "      <td>0.224804</td>\n",
       "      <td>1.885339</td>\n",
       "      <td>-0.331210</td>\n",
       "      <td>-0.901780</td>\n",
       "      <td>-0.160043</td>\n",
       "      <td>-0.370511</td>\n",
       "      <td>1.559533</td>\n",
       "      <td>-0.406015</td>\n",
       "    </tr>\n",
       "    <tr>\n",
       "      <th>954</th>\n",
       "      <td>-0.195221</td>\n",
       "      <td>-1.420352</td>\n",
       "      <td>0.224804</td>\n",
       "      <td>1.885339</td>\n",
       "      <td>-0.331210</td>\n",
       "      <td>-0.901780</td>\n",
       "      <td>-0.160043</td>\n",
       "      <td>-0.370511</td>\n",
       "      <td>-0.641218</td>\n",
       "      <td>-0.406015</td>\n",
       "    </tr>\n",
       "    <tr>\n",
       "      <th>955</th>\n",
       "      <td>-0.195221</td>\n",
       "      <td>-0.242828</td>\n",
       "      <td>0.224804</td>\n",
       "      <td>-0.530409</td>\n",
       "      <td>-0.331210</td>\n",
       "      <td>1.108918</td>\n",
       "      <td>-0.160043</td>\n",
       "      <td>-0.370511</td>\n",
       "      <td>1.559533</td>\n",
       "      <td>-0.406015</td>\n",
       "    </tr>\n",
       "    <tr>\n",
       "      <th>956</th>\n",
       "      <td>-0.195221</td>\n",
       "      <td>-0.589159</td>\n",
       "      <td>0.224804</td>\n",
       "      <td>1.885339</td>\n",
       "      <td>-0.331210</td>\n",
       "      <td>-0.901780</td>\n",
       "      <td>-0.160043</td>\n",
       "      <td>-0.370511</td>\n",
       "      <td>-0.641218</td>\n",
       "      <td>-0.406015</td>\n",
       "    </tr>\n",
       "    <tr>\n",
       "      <th>957</th>\n",
       "      <td>-0.195221</td>\n",
       "      <td>0.034237</td>\n",
       "      <td>0.224804</td>\n",
       "      <td>-0.530409</td>\n",
       "      <td>-0.331210</td>\n",
       "      <td>1.108918</td>\n",
       "      <td>-0.160043</td>\n",
       "      <td>-0.370511</td>\n",
       "      <td>-0.641218</td>\n",
       "      <td>2.462961</td>\n",
       "    </tr>\n",
       "    <tr>\n",
       "      <th>958</th>\n",
       "      <td>-0.195221</td>\n",
       "      <td>0.588366</td>\n",
       "      <td>0.224804</td>\n",
       "      <td>-0.530409</td>\n",
       "      <td>-0.331210</td>\n",
       "      <td>1.108918</td>\n",
       "      <td>-0.160043</td>\n",
       "      <td>-0.370511</td>\n",
       "      <td>-0.641218</td>\n",
       "      <td>2.462961</td>\n",
       "    </tr>\n",
       "    <tr>\n",
       "      <th>959</th>\n",
       "      <td>0.366477</td>\n",
       "      <td>0.726898</td>\n",
       "      <td>0.224804</td>\n",
       "      <td>-0.530409</td>\n",
       "      <td>-0.331210</td>\n",
       "      <td>1.108918</td>\n",
       "      <td>-0.160043</td>\n",
       "      <td>-0.370511</td>\n",
       "      <td>-0.641218</td>\n",
       "      <td>2.462961</td>\n",
       "    </tr>\n",
       "    <tr>\n",
       "      <th>960</th>\n",
       "      <td>-0.195221</td>\n",
       "      <td>0.449833</td>\n",
       "      <td>0.224804</td>\n",
       "      <td>-0.530409</td>\n",
       "      <td>3.019237</td>\n",
       "      <td>-0.901780</td>\n",
       "      <td>-0.160043</td>\n",
       "      <td>2.698978</td>\n",
       "      <td>-0.641218</td>\n",
       "      <td>-0.406015</td>\n",
       "    </tr>\n",
       "  </tbody>\n",
       "</table>\n",
       "<p>961 rows × 10 columns</p>\n",
       "</div>"
      ],
      "text/plain": [
       "      BI-RADS       age   density  shape_2.0  shape_3.0  shape_4.0  \\\n",
       "0    0.366477  0.796164  0.224804  -0.530409   3.019237  -0.901780   \n",
       "1   -0.195221 -0.866223  0.224804  -0.530409  -0.331210  -0.901780   \n",
       "2    0.366477  0.172769  0.224804  -0.530409  -0.331210   1.108918   \n",
       "3   -0.195221 -1.905215  0.224804  -0.530409  -0.331210  -0.901780   \n",
       "4    0.366477  1.281027  0.224804  -0.530409  -0.331210  -0.901780   \n",
       "5   -0.195221  0.657632  0.224804  -0.530409  -0.331210  -0.901780   \n",
       "6   -0.195221  1.003963  0.224804  -0.530409  -0.331210   1.108918   \n",
       "7    0.366477 -0.935489  0.224804  -0.530409  -0.331210  -0.901780   \n",
       "8    0.366477  0.103503  0.224804  -0.530409  -0.331210  -0.901780   \n",
       "9    0.366477  0.311301 -5.244480  -0.530409  -0.331210   1.108918   \n",
       "10   0.366477  1.419559  0.224804  -0.530409  -0.331210  -0.901780   \n",
       "11  -0.756918 -0.935489  0.224804   1.885339  -0.331210  -0.901780   \n",
       "12  -0.195221  0.588366  0.224804  -0.530409  -0.331210  -0.901780   \n",
       "13  -0.195221 -1.351086 -2.509838  -0.530409   3.019237  -0.901780   \n",
       "14  -0.195221  0.311301 -2.509838   1.885339  -0.331210  -0.901780   \n",
       "15  -0.195221 -0.104296  0.224804  -0.530409  -0.331210  -0.901780   \n",
       "16  -0.756918 -0.242828  0.224804  -0.530409   3.019237  -0.901780   \n",
       "17  -0.195221  0.242035  0.224804   1.885339  -0.331210  -0.901780   \n",
       "18  -0.195221 -0.104296  0.224804  -0.530409  -0.331210  -0.901780   \n",
       "19  -0.195221 -1.074022  0.224804  -0.530409  -0.331210  -0.901780   \n",
       "20  -0.195221  0.726898 -5.244480  -0.530409  -0.331210   1.108918   \n",
       "21   0.366477  0.034237 -5.244480  -0.530409  -0.331210   1.108918   \n",
       "22  -0.195221 -0.866223  0.224804  -0.530409  -0.331210  -0.901780   \n",
       "23   0.366477 -0.935489  0.224804  -0.530409  -0.331210   1.108918   \n",
       "24  -0.195221  0.242035  0.224804   1.885339  -0.331210  -0.901780   \n",
       "25   0.366477  1.350293  0.224804  -0.530409  -0.331210   1.108918   \n",
       "26  -1.318616  0.726898  0.224804  -0.530409  -0.331210  -0.901780   \n",
       "27   0.366477  0.519100  0.224804  -0.530409   3.019237  -0.901780   \n",
       "28   0.366477 -0.727691  0.224804  -0.530409  -0.331210   1.108918   \n",
       "29   0.366477 -0.035029  0.224804  -0.530409  -0.331210   1.108918   \n",
       "..        ...       ...       ...        ...        ...        ...   \n",
       "931 -0.195221  0.103503  0.224804  -0.530409  -0.331210   1.108918   \n",
       "932 -0.195221 -0.035029 -2.509838   1.885339  -0.331210  -0.901780   \n",
       "933 -0.195221  0.449833  0.224804   1.885339  -0.331210  -0.901780   \n",
       "934 -0.195221 -0.104296  0.224804  -0.530409  -0.331210  -0.901780   \n",
       "935 -0.195221  1.073229  0.224804  -0.530409  -0.331210  -0.901780   \n",
       "936 -0.195221  0.657632  0.224804  -0.530409   3.019237  -0.901780   \n",
       "937 -0.195221  0.865430  0.224804  -0.530409  -0.331210   1.108918   \n",
       "938 -0.195221  0.588366  0.224804  -0.530409  -0.331210  -0.901780   \n",
       "939 -0.195221 -0.104296  0.224804   1.885339  -0.331210  -0.901780   \n",
       "940 -0.195221 -0.519892  0.224804  -0.530409  -0.331210   1.108918   \n",
       "941 -0.195221  0.172769  0.224804  -0.530409  -0.331210   1.108918   \n",
       "942  0.366477  0.172769  0.224804  -0.530409   3.019237  -0.901780   \n",
       "943 -0.195221  1.003963 -5.244480  -0.530409  -0.331210  -0.901780   \n",
       "944  0.366477  1.003963  0.224804  -0.530409  -0.331210  -0.901780   \n",
       "945 -0.195221  0.242035  0.224804   1.885339  -0.331210  -0.901780   \n",
       "946 -0.195221  0.103503  0.224804   1.885339  -0.331210  -0.901780   \n",
       "947 -0.195221 -0.173562  0.224804  -0.530409  -0.331210   1.108918   \n",
       "948 -0.195221 -0.104296  0.224804  -0.530409  -0.331210   1.108918   \n",
       "949 -0.195221 -0.173562  0.224804   1.885339  -0.331210  -0.901780   \n",
       "950 -2.442012  1.073229  0.224804  -0.530409  -0.331210   1.108918   \n",
       "951  0.366477  0.796164  0.224804  -0.530409  -0.331210   1.108918   \n",
       "952 -0.195221  0.865430  0.224804  -0.530409  -0.331210   1.108918   \n",
       "953 -0.195221  0.034237  0.224804   1.885339  -0.331210  -0.901780   \n",
       "954 -0.195221 -1.420352  0.224804   1.885339  -0.331210  -0.901780   \n",
       "955 -0.195221 -0.242828  0.224804  -0.530409  -0.331210   1.108918   \n",
       "956 -0.195221 -0.589159  0.224804   1.885339  -0.331210  -0.901780   \n",
       "957 -0.195221  0.034237  0.224804  -0.530409  -0.331210   1.108918   \n",
       "958 -0.195221  0.588366  0.224804  -0.530409  -0.331210   1.108918   \n",
       "959  0.366477  0.726898  0.224804  -0.530409  -0.331210   1.108918   \n",
       "960 -0.195221  0.449833  0.224804  -0.530409   3.019237  -0.901780   \n",
       "\n",
       "     margin_2.0  margin_3.0  margin_4.0  margin_5.0  \n",
       "0     -0.160043   -0.370511   -0.641218    2.462961  \n",
       "1     -0.160043   -0.370511   -0.641218   -0.406015  \n",
       "2     -0.160043   -0.370511   -0.641218    2.462961  \n",
       "3     -0.160043   -0.370511   -0.641218   -0.406015  \n",
       "4     -0.160043   -0.370511   -0.641218    2.462961  \n",
       "5     -0.160043   -0.370511   -0.641218   -0.406015  \n",
       "6     -0.160043   -0.370511   -0.641218   -0.406015  \n",
       "7     -0.160043   -0.370511   -0.641218   -0.406015  \n",
       "8     -0.160043   -0.370511   -0.641218    2.462961  \n",
       "9     -0.160043   -0.370511   -0.641218    2.462961  \n",
       "10    -0.160043   -0.370511    1.559533   -0.406015  \n",
       "11    -0.160043   -0.370511   -0.641218   -0.406015  \n",
       "12    -0.160043   -0.370511   -0.641218   -0.406015  \n",
       "13    -0.160043   -0.370511   -0.641218   -0.406015  \n",
       "14    -0.160043   -0.370511   -0.641218   -0.406015  \n",
       "15    -0.160043   -0.370511   -0.641218   -0.406015  \n",
       "16    -0.160043   -0.370511    1.559533   -0.406015  \n",
       "17    -0.160043   -0.370511   -0.641218   -0.406015  \n",
       "18    -0.160043   -0.370511   -0.641218   -0.406015  \n",
       "19    -0.160043   -0.370511   -0.641218   -0.406015  \n",
       "20    -0.160043   -0.370511   -0.641218   -0.406015  \n",
       "21    -0.160043    2.698978   -0.641218   -0.406015  \n",
       "22    -0.160043   -0.370511   -0.641218   -0.406015  \n",
       "23    -0.160043   -0.370511    1.559533   -0.406015  \n",
       "24    -0.160043   -0.370511    1.559533   -0.406015  \n",
       "25    -0.160043   -0.370511   -0.641218    2.462961  \n",
       "26    -0.160043   -0.370511   -0.641218   -0.406015  \n",
       "27    -0.160043   -0.370511   -0.641218   -0.406015  \n",
       "28    -0.160043   -0.370511   -0.641218    2.462961  \n",
       "29    -0.160043   -0.370511    1.559533   -0.406015  \n",
       "..          ...         ...         ...         ...  \n",
       "931   -0.160043    2.698978   -0.641218   -0.406015  \n",
       "932   -0.160043   -0.370511   -0.641218   -0.406015  \n",
       "933   -0.160043   -0.370511   -0.641218   -0.406015  \n",
       "934   -0.160043   -0.370511   -0.641218   -0.406015  \n",
       "935   -0.160043   -0.370511   -0.641218   -0.406015  \n",
       "936   -0.160043    2.698978   -0.641218   -0.406015  \n",
       "937   -0.160043   -0.370511    1.559533   -0.406015  \n",
       "938   -0.160043   -0.370511   -0.641218   -0.406015  \n",
       "939   -0.160043   -0.370511    1.559533   -0.406015  \n",
       "940   -0.160043   -0.370511    1.559533   -0.406015  \n",
       "941   -0.160043    2.698978   -0.641218   -0.406015  \n",
       "942   -0.160043   -0.370511    1.559533   -0.406015  \n",
       "943   -0.160043   -0.370511   -0.641218   -0.406015  \n",
       "944   -0.160043   -0.370511    1.559533   -0.406015  \n",
       "945   -0.160043   -0.370511   -0.641218   -0.406015  \n",
       "946   -0.160043   -0.370511    1.559533   -0.406015  \n",
       "947   -0.160043   -0.370511   -0.641218    2.462961  \n",
       "948   -0.160043   -0.370511    1.559533   -0.406015  \n",
       "949   -0.160043   -0.370511   -0.641218   -0.406015  \n",
       "950   -0.160043   -0.370511    1.559533   -0.406015  \n",
       "951   -0.160043   -0.370511   -0.641218    2.462961  \n",
       "952   -0.160043   -0.370511    1.559533   -0.406015  \n",
       "953   -0.160043   -0.370511    1.559533   -0.406015  \n",
       "954   -0.160043   -0.370511   -0.641218   -0.406015  \n",
       "955   -0.160043   -0.370511    1.559533   -0.406015  \n",
       "956   -0.160043   -0.370511   -0.641218   -0.406015  \n",
       "957   -0.160043   -0.370511   -0.641218    2.462961  \n",
       "958   -0.160043   -0.370511   -0.641218    2.462961  \n",
       "959   -0.160043   -0.370511   -0.641218    2.462961  \n",
       "960   -0.160043    2.698978   -0.641218   -0.406015  \n",
       "\n",
       "[961 rows x 10 columns]"
      ]
     },
     "execution_count": 35,
     "metadata": {},
     "output_type": "execute_result"
    }
   ],
   "source": [
    "# Instanciating StandardsCaler\n",
    "sc = StandardScaler()\n",
    "\n",
    "# using .fit_transform() and fropping our target variables.\n",
    "sc_feat = sc.fit_transform(df1.drop('severity',axis=1))\n",
    "\n",
    "# making a DataFrame out of our scaled-transformed features\n",
    "df2 = pd.DataFrame(sc_feat, columns = df1.columns.drop('severity'))\n",
    "df2"
   ]
  },
  {
   "cell_type": "markdown",
   "metadata": {},
   "source": [
    "# Making train-test sample of dataset"
   ]
  },
  {
   "cell_type": "markdown",
   "metadata": {},
   "source": [
    "Importing train_test_split from Scikitlratn library which makes it easy for us to take different sample of dataset."
   ]
  },
  {
   "cell_type": "code",
   "execution_count": 31,
   "metadata": {
    "collapsed": false
   },
   "outputs": [],
   "source": [
    "from sklearn.cross_validation import train_test_split"
   ]
  },
  {
   "cell_type": "code",
   "execution_count": 36,
   "metadata": {
    "collapsed": false
   },
   "outputs": [],
   "source": [
    "# df2 scaled_transformed dataset whcih it's target variable has been dropped.\n",
    "x = df2\n",
    "# target variable\n",
    "y = df1.severity\n",
    "# using train_test_split by test_size = 0.3 (considering 30% of observation as test set) \n",
    "x_train, x_test, y_train, y_test = train_test_split(x,y, test_size = 0.3, random_state = 101)"
   ]
  },
  {
   "cell_type": "code",
   "execution_count": null,
   "metadata": {
    "collapsed": false
   },
   "outputs": [],
   "source": []
  },
  {
   "cell_type": "markdown",
   "metadata": {},
   "source": [
    "# KNN"
   ]
  },
  {
   "cell_type": "markdown",
   "metadata": {
    "collapsed": true
   },
   "source": [
    "In pattern recognition, the k-nearest neighbors algorithm (k-NN) is a non-parametric method used for classification and regression.\n",
    "In both cases, the input consists of the k closest training examples in the feature space. The output depends on whether k-NN is\n",
    "used for classification or regression:\n",
    "\n",
    "- In k-NN classification, the output is a class membership. An object is classified by a plurality vote of its neighbors,\n",
    "with the object being assigned to the class most common among its k nearest neighbors (k is a positive integer, typically small).\n",
    "If k = 1, then the object is simply assigned to the class of that single nearest neighbor.\n",
    "\n",
    "- In k-NN regression, the output is the property value for the object. This value is the average of the values of k nearest neighbors.\n",
    "\n",
    "k-NN is a type of instance-based learning, or lazy learning, where the function is only approximated locally and all computation\n",
    "is deferred until classification. The k-NN algorithm is among the simplest of all machine learning algorithms."
   ]
  },
  {
   "cell_type": "code",
   "execution_count": 37,
   "metadata": {
    "collapsed": true
   },
   "outputs": [],
   "source": [
    "# importing KNeighborsClassifier from scikitlearn library\n",
    "from sklearn.neighbors import KNeighborsClassifier"
   ]
  },
  {
   "cell_type": "markdown",
   "metadata": {
    "collapsed": true
   },
   "source": [
    "KNN can be used with a wide range of distance metric( euclidean, manhattan, chebyshev,minkowski, wminkowski,seuclidean, mahalanobis)\n",
    ", I have tested most of them for this dataset, and the best result belongs to 'minkowski' with p = 2, which is the same as euclidean distance.\n",
    "\n",
    "                            MinkowskiDistance ---> p ----> sum(|x - y|^p)^(1/p)"
   ]
  },
  {
   "cell_type": "code",
   "execution_count": 39,
   "metadata": {
    "collapsed": false
   },
   "outputs": [],
   "source": [
    "# instanciating KNeighborsClassifier\n",
    "knn = KNeighborsClassifier(n_neighbors = 7, metric='minkowski')\n",
    "# Fitting tarining model to the model\n",
    "knn.fit(x_train, y_train )\n",
    "# passing x_test(test dataset features) through predict method() to get the final prediction\n",
    "prediction = knn.predict(x_test)"
   ]
  },
  {
   "cell_type": "markdown",
   "metadata": {},
   "source": [
    "To evaluate the model performance, Confusion Matrix and Classification Report are functioned."
   ]
  },
  {
   "cell_type": "code",
   "execution_count": 41,
   "metadata": {
    "collapsed": true
   },
   "outputs": [],
   "source": [
    "from sklearn.metrics import classification_report, confusion_matrix"
   ]
  },
  {
   "cell_type": "code",
   "execution_count": 42,
   "metadata": {
    "collapsed": false
   },
   "outputs": [
    {
     "name": "stdout",
     "output_type": "stream",
     "text": [
      "[[134  24]\n",
      " [ 23 108]]\n",
      "             precision    recall  f1-score   support\n",
      "\n",
      "          0       0.85      0.85      0.85       158\n",
      "          1       0.82      0.82      0.82       131\n",
      "\n",
      "avg / total       0.84      0.84      0.84       289\n",
      "\n"
     ]
    }
   ],
   "source": [
    "# passing y_test(real values) and prediction(pridected values) through confusion matrix and classification report\n",
    "print(confusion_matrix(y_test, prediction))\n",
    "print(classification_report(y_test, prediction))"
   ]
  },
  {
   "cell_type": "markdown",
   "metadata": {},
   "source": [
    "As can be seen from above, \n",
    "\n",
    "recall : What proportion of actual positives was identified correctly ?\n",
    "\n",
    "( True positive / True positive + False negative)  is 0.84 (84%)\n",
    "\n",
    "and\n",
    "\n",
    "Precision: What proportion of positive identifications was actually correct?\n",
    "\n",
    "(True positive / True positive + False positive) is 0.84 (84%)\n",
    "\n",
    "Note: In Confusion Matrix, Y-axis represent the actual values and X-axis indicates the predicted value. \n",
    "\n",
    "      the first row shows the negative(0) Predictions and second row represent the positive(1) values.\n",
    "      so as an example: \n",
    "       \n",
    "      recall for 1 --- > True positive / True positive + False negative ---> 108/24+108 = 0.82 roughly."
   ]
  },
  {
   "cell_type": "markdown",
   "metadata": {},
   "source": [
    "Let us find the best n_neighbors ( how many neigbors should be considered for the optimal result).\n",
    "we consider 1 to 40 neighbors for KNN, and forming an error_rate for each level of neighbors."
   ]
  },
  {
   "cell_type": "code",
   "execution_count": 47,
   "metadata": {
    "collapsed": false
   },
   "outputs": [],
   "source": [
    "# reset the index to start index from zero again with +1 increment\n",
    "y_test_i = y_test.reset_index(drop=True)\n",
    "y_test_i\n",
    "error_rate = []\n",
    "\n",
    "for i in range(1,40):\n",
    "    \n",
    "    knn = KNeighborsClassifier(n_neighbors=i )\n",
    "    knn.fit(x_train, y_train)\n",
    "    y_predict = knn.predict(x_test)\n",
    "    error_rate.append(np.sqrt( sum((y_test_i - y_predict)**2) ))\n"
   ]
  },
  {
   "cell_type": "markdown",
   "metadata": {},
   "source": [
    "Plotting the error_rate vs the K to find the optimal K by using matplotlib plot function()."
   ]
  },
  {
   "cell_type": "code",
   "execution_count": 49,
   "metadata": {
    "collapsed": false
   },
   "outputs": [
    {
     "data": {
      "text/plain": [
       "Text(0,0.5,'Error Rate')"
      ]
     },
     "execution_count": 49,
     "metadata": {},
     "output_type": "execute_result"
    },
    {
     "data": {
      "image/png": "[encoded data removed]",
      "text/plain": [
       "<Figure size 720x432 with 1 Axes>"
      ]
     },
     "metadata": {},
     "output_type": "display_data"
    }
   ],
   "source": [
    "plt.figure(figsize = (10,6))\n",
    "plt.plot(range(1,40), error_rate ,color='blue',linestyle ='dashed', marker= 'o',\n",
    "        markerfacecolor = 'red',markersize=10)\n",
    "plt.title('Error Vs K')\n",
    "plt.xlabel('K')\n",
    "plt.ylabel('Error Rate')\n"
   ]
  },
  {
   "cell_type": "markdown",
   "metadata": {},
   "source": [
    "Considering 7 as the best number of neighbors for KNN. So by k = 7 we get the minimum residual error, and we as a result the best possible accuracy for KNN which is 84%.\n"
   ]
  },
  {
   "cell_type": "markdown",
   "metadata": {},
   "source": [
    "# Desicion Tree"
   ]
  },
  {
   "cell_type": "markdown",
   "metadata": {},
   "source": [
    "Decision trees classify instances by sorting them down the tree from the root to some leaf node, which provides the classification of the instance.\n",
    "An instance is classified by starting at the root node of the tree,testing the attribute specified by this node,then moving down the tree branch corresponding\n",
    "to the value of the attribute as shown in the above figure.This process is then repeated for the subtree rooted at the new node."
   ]
  },
  {
   "cell_type": "markdown",
   "metadata": {
    "collapsed": true
   },
   "source": [
    "Strengths and Weakness of Decision Tree approach\n",
    "\n",
    "The strengths of decision tree methods are:\n",
    "\n",
    "Decision trees are able to generate understandable rules.\n",
    "\n",
    "Decision trees perform classification without requiring much computation.\n",
    "\n",
    "Decision trees are able to handle both continuous and categorical variables.\n",
    "\n",
    "Decision trees provide a clear indication of which fields are most important for prediction or classification.\n",
    "\n",
    "\n",
    "\n",
    "The weaknesses of decision tree methods :\n",
    "\n",
    "Decision trees are less appropriate for estimation tasks where the goal is to predict the value of a continuous attribute.\n",
    "\n",
    "Decision trees are prone to errors in classification problems with many class and relatively small number of training examples.\n",
    "\n",
    "Decision tree can be computationally expensive to train. The process of growing a decision tree is computationally expensive.\n",
    "At each node, each candidate splitting field must be sorted before its best split can be found. In some algorithms, combinations of fields are used and a search must be made for optimal combining weights. Pruning algorithms can also be expensive since many candidate sub-trees must be formed and compared."
   ]
  },
  {
   "cell_type": "markdown",
   "metadata": {},
   "source": [
    "Improting of DesicionTreeClassifier from sklearn.Tree. Instanciating DesicionTreeClassifier and storing it to dct variable.\n",
    "passing x_train and y_train through fit() method. And, Finally, using predict method to predict the final result.\n",
    "\n",
    "To evaluate the Decision Tree algorithm, confusion matrix and classification report are performed."
   ]
  },
  {
   "cell_type": "code",
   "execution_count": 51,
   "metadata": {
    "collapsed": true
   },
   "outputs": [],
   "source": [
    "from sklearn.tree import DecisionTreeClassifier"
   ]
  },
  {
   "cell_type": "code",
   "execution_count": 439,
   "metadata": {
    "collapsed": false
   },
   "outputs": [
    {
     "name": "stdout",
     "output_type": "stream",
     "text": [
      "[[126  35]\n",
      " [ 32  96]]\n",
      "             precision    recall  f1-score   support\n",
      "\n",
      "          0       0.80      0.78      0.79       161\n",
      "          1       0.73      0.75      0.74       128\n",
      "\n",
      "avg / total       0.77      0.77      0.77       289\n",
      "\n"
     ]
    }
   ],
   "source": [
    "dct = DecisionTreeClassifier()\n",
    "dct.fit(x_train,y_train)\n",
    "dct_prediction = dct.predict(x_test)\n",
    "print(confusion_matrix(dct_prediction,y_test))\n",
    "print(classification_report(dct_prediction,y_test))"
   ]
  },
  {
   "cell_type": "markdown",
   "metadata": {
    "collapsed": true
   },
   "source": [
    "\n",
    "recall : \n",
    "\n",
    "( True positive / True positive + False negative)  is 0.77 (77%)\n",
    "\n",
    "and\n",
    "\n",
    "Precision: What proportion of positive identifications was actually correct?\n",
    "\n",
    "(True positive / True positive + False positive) is 0.77 (77%)\n",
    "\n",
    "This algorithm predicted 126 target variable with the 1 value correctly and 35 other positives which are not positive. in the following we use an ensemble algorithm like random forest to improve the prediction power of decision tree."
   ]
  },
  {
   "cell_type": "markdown",
   "metadata": {},
   "source": [
    "# Random Forest"
   ]
  },
  {
   "cell_type": "markdown",
   "metadata": {},
   "source": [
    "Random Forests grows many classification trees. To classify a new object from an input vector, put the input vector down each of the trees in the forest. Each tree gives a classification, and the tree \"votes\" for that class. The forest chooses the classification having the most votes (over all the trees in the forest).\n",
    "\n",
    "Features of Random Forests\n",
    "It is unexcelled in accuracy among current algorithms.\n",
    "It runs efficiently on large data bases.\n",
    "It can handle thousands of input variables without variable deletion.\n",
    "It gives estimates of what variables are important in the classification.\n",
    "It generates an internal unbiased estimate of the generalization error as the forest building progresses.\n",
    "It has an effective method for estimating missing data and maintains accuracy when a large proportion of the data are missing.\n",
    "It has methods for balancing error in class population unbalanced data sets.\n",
    "\n",
    "Random forests does not overfit. You can run as many trees as you want. It is fast. Running on a data set with 50,000 cases and 100 variables, it produced 100 trees in 11 minutes on a 800Mhz machine. For large data sets the major memory requirement is the storage of the data itself, and three integer arrays with the same dimensions as the data. If proximities are calculated, storage requirements grow as the number of cases times the number of trees."
   ]
  },
  {
   "cell_type": "code",
   "execution_count": 68,
   "metadata": {
    "collapsed": true
   },
   "outputs": [],
   "source": [
    "from sklearn.ensemble import RandomForestClassifier"
   ]
  },
  {
   "cell_type": "markdown",
   "metadata": {},
   "source": [
    "We just import RandomForestClassifier and make an instance of it, and other steps(fitting, predicting, evaluation are the same with Decision Tree). \n"
   ]
  },
  {
   "cell_type": "code",
   "execution_count": null,
   "metadata": {
    "collapsed": true
   },
   "outputs": [],
   "source": []
  },
  {
   "cell_type": "code",
   "execution_count": 69,
   "metadata": {
    "collapsed": false
   },
   "outputs": [
    {
     "name": "stdout",
     "output_type": "stream",
     "text": [
      "[[125  29]\n",
      " [ 33 102]]\n",
      "             precision    recall  f1-score   support\n",
      "\n",
      "          0       0.79      0.81      0.80       154\n",
      "          1       0.78      0.76      0.77       135\n",
      "\n",
      "avg / total       0.79      0.79      0.79       289\n",
      "\n"
     ]
    }
   ],
   "source": [
    "rf = RandomForestClassifier(n_estimators=137)\n",
    "rf.fit(x_train, y_train)\n",
    "rf_prediction = rf.predict(x_test)\n",
    "print(confusion_matrix(rf_prediction,y_test))\n",
    "print(classification_report(rf_prediction,y_test))"
   ]
  },
  {
   "cell_type": "markdown",
   "metadata": {},
   "source": [
    "As it can be seen, the accuracy  of model has been increased by 2 percent roughly in compare to Decision Tree. \n",
    "It is not big difference, So Random Forest does not help to improve our model accuracy significantly.\n"
   ]
  },
  {
   "cell_type": "markdown",
   "metadata": {},
   "source": [
    "Now, we are trying to find how many trees we need to vote for the best possible result."
   ]
  },
  {
   "cell_type": "code",
   "execution_count": 62,
   "metadata": {
    "collapsed": false
   },
   "outputs": [],
   "source": [
    "y_test_i = y_test.reset_index(drop=True)\n",
    "y_test_i\n",
    "error_rate = []\n",
    "\n",
    "for i in range(1,970):\n",
    "    \n",
    "    rf_ = RandomForestClassifier(n_estimators=i , )\n",
    "    rf_.fit(x_train, y_train)\n",
    "    rf_predict = rf_.predict(x_test)\n",
    "    error_rate.append(np.sqrt( sum((y_test_i - rf_predict)**2) ))"
   ]
  },
  {
   "cell_type": "code",
   "execution_count": 63,
   "metadata": {
    "collapsed": false
   },
   "outputs": [
    {
     "data": {
      "text/plain": [
       "Text(0,0.5,'Error Rate')"
      ]
     },
     "execution_count": 63,
     "metadata": {},
     "output_type": "execute_result"
    },
    {
     "data": {
      "image/png": "[encoded data removed]",
      "text/plain": [
       "<Figure size 1080x432 with 1 Axes>"
      ]
     },
     "metadata": {},
     "output_type": "display_data"
    }
   ],
   "source": [
    "plt.figure(figsize = (15,6))\n",
    "plt.plot(range(1,970), error_rate ,color='green',linestyle ='dotted', marker= 'o',\n",
    "        markerfacecolor = 'blue',markersize=5)\n",
    "plt.title('Error Vs Estimators')\n",
    "plt.xlabel('Estimators')\n",
    "plt.ylabel('Error Rate')"
   ]
  },
  {
   "cell_type": "code",
   "execution_count": 64,
   "metadata": {
    "collapsed": false
   },
   "outputs": [
    {
     "data": {
      "text/plain": [
       "137"
      ]
     },
     "execution_count": 64,
     "metadata": {},
     "output_type": "execute_result"
    }
   ],
   "source": [
    "error_rate.index(np.min(error_rate))"
   ]
  },
  {
   "cell_type": "markdown",
   "metadata": {},
   "source": [
    "Figure above shows that we get the least error_rate at the 137, it means by using 137 trees we can get the best possible accuracy.\n",
    "\n",
    "Note:\n",
    "\n",
    "    Random Forest , by diffualt, uses bootstrapping method to select the samples, therefore with every run we could get a     slightly different result."
   ]
  },
  {
   "cell_type": "markdown",
   "metadata": {},
   "source": [
    "# SVM"
   ]
  },
  {
   "cell_type": "markdown",
   "metadata": {
    "collapsed": true
   },
   "source": [
    "Support Vector Machine (SVM) is a supervised machine learning algorithm which can be used for both classification or regression challenges. However,  it is mostly used in classification problems. This algorithm works by finding best possible hyper-planes for classification. SVM works well with high-dimensional data."
   ]
  },
  {
   "cell_type": "markdown",
   "metadata": {},
   "source": [
    "1- Improt the SVC from Scikitlearn python Library.\n",
    "\n",
    "2- Make an isnstance(object) of the SVC model.\n",
    "\n",
    "3- Fit the train data to the model.\n",
    "\n",
    "4- Using x_test(test dataset observation) to predict result.\n",
    "\n",
    "5- Evaluate the predicted result in compare with Target Variable(real observation, y_test)."
   ]
  },
  {
   "cell_type": "code",
   "execution_count": 81,
   "metadata": {
    "collapsed": true
   },
   "outputs": [],
   "source": [
    "from sklearn.svm import SVC"
   ]
  },
  {
   "cell_type": "code",
   "execution_count": 82,
   "metadata": {
    "collapsed": false
   },
   "outputs": [
    {
     "name": "stdout",
     "output_type": "stream",
     "text": [
      "[[129  20]\n",
      " [ 29 111]]\n",
      "             precision    recall  f1-score   support\n",
      "\n",
      "          0       0.82      0.87      0.84       149\n",
      "          1       0.85      0.79      0.82       140\n",
      "\n",
      "avg / total       0.83      0.83      0.83       289\n",
      "\n"
     ]
    }
   ],
   "source": [
    "svm = SVC(kernel = 'linear')\n",
    "svm.fit(x_train, y_train)\n",
    "svm_prediction = svm.predict(x_test)\n",
    "print(confusion_matrix(svm_prediction,y_test))\n",
    "print(classification_report(svm_prediction,y_test))"
   ]
  },
  {
   "cell_type": "markdown",
   "metadata": {
    "collapsed": true
   },
   "source": [
    "The model accuracy is about 83% which is better than Decision Tree(77%) and Random Forest(79%), but slighlty less than KNN(84%) a simple machine learning algorithm."
   ]
  },
  {
   "cell_type": "markdown",
   "metadata": {
    "collapsed": false
   },
   "source": [
    "We uses different kernel of SVM to check which one has the best result in our data(Using linear, ploy, rbf and sigmoidkernel).\n"
   ]
  },
  {
   "cell_type": "code",
   "execution_count": 83,
   "metadata": {
    "collapsed": false
   },
   "outputs": [
    {
     "name": "stdout",
     "output_type": "stream",
     "text": [
      "kernel: linear \n",
      " [[129  20]\n",
      " [ 29 111]]\n",
      "\n",
      "\n",
      "kernel: linear \n",
      "              precision    recall  f1-score   support\n",
      "\n",
      "          0       0.82      0.87      0.84       149\n",
      "          1       0.85      0.79      0.82       140\n",
      "\n",
      "avg / total       0.83      0.83      0.83       289\n",
      "\n",
      "kernel: poly \n",
      " [[126  23]\n",
      " [ 32 108]]\n",
      "\n",
      "\n",
      "kernel: poly \n",
      "              precision    recall  f1-score   support\n",
      "\n",
      "          0       0.80      0.85      0.82       149\n",
      "          1       0.82      0.77      0.80       140\n",
      "\n",
      "avg / total       0.81      0.81      0.81       289\n",
      "\n",
      "kernel: rbf \n",
      " [[123  19]\n",
      " [ 35 112]]\n",
      "\n",
      "\n",
      "kernel: rbf \n",
      "              precision    recall  f1-score   support\n",
      "\n",
      "          0       0.78      0.87      0.82       142\n",
      "          1       0.85      0.76      0.81       147\n",
      "\n",
      "avg / total       0.82      0.81      0.81       289\n",
      "\n",
      "kernel: sigmoid \n",
      " [[158 131]\n",
      " [  0   0]]\n",
      "\n",
      "\n",
      "kernel: sigmoid \n",
      "              precision    recall  f1-score   support\n",
      "\n",
      "          0       1.00      0.55      0.71       289\n",
      "          1       0.00      0.00      0.00         0\n",
      "\n",
      "avg / total       1.00      0.55      0.71       289\n",
      "\n"
     ]
    },
    {
     "name": "stderr",
     "output_type": "stream",
     "text": [
      "C:\\Program Files\\Anaconda3\\lib\\site-packages\\sklearn\\metrics\\classification.py:1076: UndefinedMetricWarning: Recall and F-score are ill-defined and being set to 0.0 in labels with no true samples.\n",
      "  'recall', 'true', average, warn_for)\n"
     ]
    }
   ],
   "source": [
    "y_test_i = y_test.reset_index(drop=True)\n",
    "y_test_i\n",
    "error_rate = []\n",
    "kernels = ['linear', 'poly', 'rbf', 'sigmoid']\n",
    "for kernel in kernels:\n",
    "    svm_ = SVC(kernel = kernel)\n",
    "    svm_.fit(x_train, y_train)\n",
    "    svm_predict = svm_.predict(x_test)\n",
    "    error_rate.append(np.sqrt( sum((y_test_i - svm_predict)**2) ))\n",
    "    print('kernel:',kernel,'\\n',confusion_matrix(svm_predict,y_test))\n",
    "    print('\\n')\n",
    "    print('kernel:',kernel,'\\n',classification_report(svm_predict,y_test))\n"
   ]
  },
  {
   "cell_type": "markdown",
   "metadata": {
    "collapsed": false
   },
   "source": [
    "the Classification Report and Confusion Matrix indicate linear model has the best possible result and sigmiod the worst.\n",
    "in sigmoid presicion is shown by 1 but when we take look at associated confusion matrix, It can be clearly seen that sigmoid \n",
    "identify all the observation as 0 (negative) which has a big error for finding postivie samples."
   ]
  },
  {
   "cell_type": "code",
   "execution_count": 84,
   "metadata": {
    "collapsed": false
   },
   "outputs": [
    {
     "data": {
      "text/plain": [
       "Text(0,0.5,'Error Rate')"
      ]
     },
     "execution_count": 84,
     "metadata": {},
     "output_type": "execute_result"
    },
    {
     "data": {
      "image/png": "[encoded data removed]",
      "text/plain": [
       "<Figure size 1080x432 with 1 Axes>"
      ]
     },
     "metadata": {},
     "output_type": "display_data"
    }
   ],
   "source": [
    "plt.figure(figsize = (15,6))\n",
    "plt.plot(kernels, error_rate ,color='green',linestyle ='dotted', marker= 'o',\n",
    "        markerfacecolor = 'blue',markersize=5)\n",
    "plt.title('Error Vs Kernels')\n",
    "plt.xlabel('Kernels')\n",
    "plt.ylabel('Error Rate')"
   ]
  },
  {
   "cell_type": "markdown",
   "metadata": {},
   "source": [
    "Figure above shows the less possible error_rate vs chosen the Kernels. (linear kernel has the less error_rate)"
   ]
  },
  {
   "cell_type": "markdown",
   "metadata": {},
   "source": [
    "# Voting (Ensemble method using some different models)"
   ]
  },
  {
   "cell_type": "markdown",
   "metadata": {
    "collapsed": true
   },
   "source": [
    "Ensemble methods are techniques that create multiple models and then combine them to produce improved results. Ensemble methods usually produces more accurate solutions than a single model would. This has been the case in a number of machine learning competitions, where the winning solutions used ensemble methods. In the popular Netflix Competition, the winner used an ensemble method to implement a powerful collaborative filtering algorithm. Another example is KDD 2009 where the winner also used ensemble methods. You can also find winners who used these methods in Kaggle competitions.\n",
    "\n",
    "The first step is to create multiple classification/regression models using some training dataset. Each base model can be created using different splits of the same training dataset and same algorithm, or using the same dataset with different algorithms, or any other method.\n",
    "\n",
    "Every model makes a prediction (votes) for each test instance and the final output prediction is the one that receives more than half of the votes. If none of the predictions get more than half of the votes, we may say that the ensemble method could not make a stable prediction for this instance. \n",
    "Unlike majority voting, where each model has the same rights, we can increase the importance of one or more models. In weighted voting you count the prediction of the better models multiple times."
   ]
  },
  {
   "cell_type": "markdown",
   "metadata": {},
   "source": [
    "First, import VotingClassifier from Scikitlearn.ensemble "
   ]
  },
  {
   "cell_type": "code",
   "execution_count": 85,
   "metadata": {
    "collapsed": true
   },
   "outputs": [],
   "source": [
    "from sklearn.ensemble import VotingClassifier"
   ]
  },
  {
   "cell_type": "markdown",
   "metadata": {},
   "source": [
    "Three different models used to make an ensemble model( SVM, Random Forest, and KNN)\n",
    "\n",
    "1- make an instance of VotingClassifier by passing our chosing model through it as arguments.\n",
    "\n",
    "2- fit the train data to model.\n",
    "\n",
    "3- using score() method to evaluate the predicted result against actual value(y-test).\n"
   ]
  },
  {
   "cell_type": "code",
   "execution_count": 99,
   "metadata": {
    "collapsed": false
   },
   "outputs": [
    {
     "data": {
      "text/plain": [
       "0.82698961937716264"
      ]
     },
     "execution_count": 99,
     "metadata": {},
     "output_type": "execute_result"
    }
   ],
   "source": [
    "vtc = VotingClassifier(estimators= [('svm',SVC(kernel='linear')),('rf', RandomForestClassifier(n_estimators = 137)),\n",
    "                                    ('KNN',KNeighborsClassifier(n_neighbors = 7))], voting = 'hard')\n",
    "vtc.fit(x_train, y_train)\n",
    "vtc.score(x_test,y_test)"
   ]
  },
  {
   "cell_type": "markdown",
   "metadata": {},
   "source": [
    "The accuracy of our model based on three different models is 82.5 % roughly which is less than the result of KNN or SVM."
   ]
  },
  {
   "cell_type": "markdown",
   "metadata": {},
   "source": [
    "# Bagging"
   ]
  },
  {
   "cell_type": "markdown",
   "metadata": {},
   "source": [
    "Bootstrap Aggregation (or Bagging for short), is a simple and very powerful ensemble method.\n",
    "\n",
    "An ensemble method is a technique that combines the predictions from multiple machine learning algorithms together to make more accurate predictions than any individual model.\n",
    "\n",
    "Bootstrap Aggregation is a general procedure that can be used to reduce the variance for those algorithm that have high variance. An algorithm that has high variance are decision trees, like classification and regression trees (CART).\n",
    "\n",
    "Decision trees are sensitive to the specific data on which they are trained. If the training data is changed (e.g. a tree is trained on a subset of the training data) the resulting decision tree can be quite different and in turn the predictions can be quite different.\n",
    "\n",
    "Bagging is the application of the Bootstrap procedure to a high-variance machine learning algorithm, typically decision trees."
   ]
  },
  {
   "cell_type": "markdown",
   "metadata": {},
   "source": [
    "How it works :\n",
    "\n",
    "1- make an instance of BaggingClassifier from sklearn.ensemble.\n",
    "\n",
    "2- fit the train data to model.\n",
    "\n",
    "3- using score() method to evaluate the predicted result against actual value(y-test)."
   ]
  },
  {
   "cell_type": "code",
   "execution_count": 117,
   "metadata": {
    "collapsed": true
   },
   "outputs": [],
   "source": [
    "from sklearn.ensemble import  BaggingClassifier"
   ]
  },
  {
   "cell_type": "code",
   "execution_count": 116,
   "metadata": {
    "collapsed": false
   },
   "outputs": [
    {
     "data": {
      "text/plain": [
       "BaggingClassifier(base_estimator=DecisionTreeClassifier(class_weight=None, criterion='gini', max_depth=None,\n",
       "            max_features=None, max_leaf_nodes=None, min_samples_leaf=1,\n",
       "            min_samples_split=2, min_weight_fraction_leaf=0.0,\n",
       "            presort=False, random_state=None, splitter='best'),\n",
       "         bootstrap=True, bootstrap_features=False, max_features=1.0,\n",
       "         max_samples=0.5, n_estimators=137, n_jobs=1, oob_score=False,\n",
       "         random_state=None, verbose=0, warm_start=False)"
      ]
     },
     "execution_count": 116,
     "metadata": {},
     "output_type": "execute_result"
    }
   ],
   "source": [
    "bag = BaggingClassifier(DecisionTreeClassifier(), max_samples= 0.5, max_features = 1.0, n_estimators = 137)\n",
    "bag.fit(x_train,y_train)"
   ]
  },
  {
   "cell_type": "markdown",
   "metadata": {},
   "source": [
    "This technique gives us 81% accuracy which is better than Random Forest(79%), the interesting part is it gives us 90% accuracy on the training dataset. but when it comes to test dataset the peformance goes down by roughly 10%."
   ]
  },
  {
   "cell_type": "code",
   "execution_count": 466,
   "metadata": {
    "collapsed": false
   },
   "outputs": [
    {
     "data": {
      "text/plain": [
       "0.80968858131487886"
      ]
     },
     "execution_count": 466,
     "metadata": {},
     "output_type": "execute_result"
    }
   ],
   "source": [
    "bag.score(x_test,y_test)"
   ]
  },
  {
   "cell_type": "code",
   "execution_count": 451,
   "metadata": {
    "collapsed": false
   },
   "outputs": [
    {
     "data": {
      "text/plain": [
       "0.90625"
      ]
     },
     "execution_count": 451,
     "metadata": {},
     "output_type": "execute_result"
    }
   ],
   "source": [
    "bag.score(x_train,y_train)"
   ]
  },
  {
   "cell_type": "markdown",
   "metadata": {},
   "source": [
    "# Boosting (AdaBoost)"
   ]
  },
  {
   "cell_type": "markdown",
   "metadata": {},
   "source": [
    "Boosting is a method of converting weak learners into strong learners. In boosting, each new tree is a fit on a modified version of the original data set. The gradient boosting algorithm (gbm) can be most easily explained by first introducing the AdaBoost Algorithm.The AdaBoost Algorithm begins by training a decision tree in which each observation is assigned an equal weight. After evaluating the first tree, we increase the weights of those observations that are difficult to classify and lower the weights for those that are easy to classify. The second tree is therefore grown on this weighted data. Here, the idea is to improve upon the predictions of the first tree. Our new model is therefore Tree 1 + Tree 2. We then compute the classification error from this new 2-tree ensemble model and grow a third tree to predict the revised residuals. We repeat this process for a specified number of iterations. Subsequent trees help us to classify observations that are not well classified by the previous trees. Predictions of the final ensemble model is therefore the weighted sum of the predictions made by the previous tree models."
   ]
  },
  {
   "cell_type": "markdown",
   "metadata": {},
   "source": [
    "1- make an instance of AdaBoostClassifier from sklearn.ensemble. a decision tree passed throug the AdaBoostClassifier.\n",
    "\n",
    "2- fit the train data to model.(x_train,y_train)\n",
    "\n",
    "3- using score() method to evaluate the predicted result against actual value(y-test)."
   ]
  },
  {
   "cell_type": "code",
   "execution_count": 121,
   "metadata": {
    "collapsed": true
   },
   "outputs": [],
   "source": [
    "from sklearn.ensemble import AdaBoostClassifier"
   ]
  },
  {
   "cell_type": "code",
   "execution_count": 129,
   "metadata": {
    "collapsed": false
   },
   "outputs": [
    {
     "data": {
      "text/plain": [
       "AdaBoostClassifier(algorithm='SAMME.R',\n",
       "          base_estimator=DecisionTreeClassifier(class_weight=None, criterion='gini', max_depth=None,\n",
       "            max_features=None, max_leaf_nodes=None, min_samples_leaf=1,\n",
       "            min_samples_split=2, min_weight_fraction_leaf=0.0,\n",
       "            presort=False, random_state=None, splitter='best'),\n",
       "          learning_rate=1, n_estimators=20, random_state=None)"
      ]
     },
     "execution_count": 129,
     "metadata": {},
     "output_type": "execute_result"
    }
   ],
   "source": [
    "ada = AdaBoostClassifier(DecisionTreeClassifier(),n_estimators = 20, learning_rate = 1)\n",
    "ada.fit(x_train,y_train)"
   ]
  },
  {
   "cell_type": "markdown",
   "metadata": {
    "collapsed": true
   },
   "source": [
    "The accuracy is roughly about 78% which is not significant. Therefore, Adaboost does not work well on our dataset, although it works well on the training set with 93% accuracy."
   ]
  },
  {
   "cell_type": "code",
   "execution_count": 130,
   "metadata": {
    "collapsed": false
   },
   "outputs": [
    {
     "data": {
      "text/plain": [
       "0.77854671280276821"
      ]
     },
     "execution_count": 130,
     "metadata": {},
     "output_type": "execute_result"
    }
   ],
   "source": [
    "ada.score(x_test,y_test)\n"
   ]
  },
  {
   "cell_type": "code",
   "execution_count": 133,
   "metadata": {
    "collapsed": false
   },
   "outputs": [
    {
     "data": {
      "text/plain": [
       "0.93898809523809523"
      ]
     },
     "execution_count": 133,
     "metadata": {},
     "output_type": "execute_result"
    }
   ],
   "source": [
    "ada.score(x_train,y_train)"
   ]
  },
  {
   "cell_type": "code",
   "execution_count": 140,
   "metadata": {
    "collapsed": false
   },
   "outputs": [
    {
     "name": "stdout",
     "output_type": "stream",
     "text": [
      "total: 289 1 target: 131 0 target: 158\n",
      "total: 289 1 target: 132 0 target: 157\n"
     ]
    }
   ],
   "source": [
    "print ( 'total:',len(y_test ), '1 target:', len(y_test[y_test==1]), '0 target:', len(y_test[y_test==0]))\n",
    "print ( 'total:',len(prediction ), '1 target:', len(prediction[prediction==1]), '0 target:', len(prediction[prediction==0]))\n"
   ]
  },
  {
   "cell_type": "markdown",
   "metadata": {},
   "source": [
    "# Conclusion"
   ]
  },
  {
   "cell_type": "markdown",
   "metadata": {},
   "source": [
    "In previous sections, I discussed technically about different machine learning algorithm, after that I implement voting\n",
    "boosting and bagging techniques to improve the result, but it seems the best techniques is KNN(84% accuracy) for this dataset.\n",
    "Now I want to try to infer the result from medical aspect.\n",
    "\n",
    "this the final result of confusion matrix and classification report for KNN:\n",
    "    \n",
    "    \n",
    "[[134  24]\n",
    " [ 23 108]]\n",
    "             precision    recall  f1-score   support\n",
    "\n",
    "          0       0.85      0.85      0.85       158\n",
    "          1       0.82      0.82      0.82       131\n",
    "\n",
    "avg / total       0.84      0.84      0.84       289\n",
    "\n",
    "recall : \n",
    "\n",
    "( True positive / True positive + False negative)\n",
    "\n",
    "and\n",
    "\n",
    "Precision:\n",
    "\n",
    "(True positive / True positive + False positive) \n",
    "\n",
    "our model predicted 157 cases with beingn mass and 132 observations with malignant mass.\n",
    "\n",
    "\n",
    "This result indicates that our model predicted 108 out of 132 cases whcih have malignant mammographic mass lesion correctly, while it identified 24 benign case as malignant. (recall for 1 = 82%)\n",
    "\n",
    "134 beinign cases were predicted correctly, and 23 malignant cases were considered as benign cases by mistake. (recall for 0 = 85%)\n",
    "\n",
    "based on the result 134 out of 158 cases has been recognised correctly as having benign mass while 24 observatios with benign mass were missclassifed as malignant mass.(precision for 0 = 85%)\n",
    "\n",
    "finally, from total of 131 actual positive( 1= malignant) cases, 108 caces were predicted precisely, and 23 cases (they predicted as benign) were classified by mistake. (precision for 1 = 82%)\n",
    "\n",
    "To sum up, Amazingly, KNN has the best accuracy between models that I examined with 84% avarage accuracy. This research may go furture by considering other machine learning techniques like Neural Network or Naive Bayes, or by finding the best distance metric and applying some advanced statistical thechniques which it required more time. In this research I have tried to implement diffrent techniques and comparing the results to each other to find the best model to fit our data, which suprisengly is KNN.\n",
    "\n",
    "\n"
   ]
  }
 ],
 "metadata": {
  "anaconda-cloud": {},
  "kernelspec": {
   "display_name": "Python [conda env:Anaconda3]",
   "language": "python",
   "name": "conda-env-Anaconda3-py"
  },
  "language_info": {
   "codemirror_mode": {
    "name": "ipython",
    "version": 3
   },
   "file_extension": ".py",
   "mimetype": "text/x-python",
   "name": "python",
   "nbconvert_exporter": "python",
   "pygments_lexer": "ipython3",
   "version": "3.5.6"
  }
 },
 "nbformat": 4,
 "nbformat_minor": 2
}
